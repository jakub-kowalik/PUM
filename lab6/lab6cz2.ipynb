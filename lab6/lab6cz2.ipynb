{
 "cells": [
  {
   "cell_type": "code",
   "execution_count": 1,
   "metadata": {
    "collapsed": true,
    "pycharm": {
     "name": "#%%\n"
    }
   },
   "outputs": [],
   "source": [
    "import math\n",
    "import random\n",
    "import time\n",
    "\n",
    "import sklearn.metrics\n",
    "from numpy import arange, c_\n",
    "from sklearn.model_selection import train_test_split\n",
    "from sklearn.preprocessing import PolynomialFeatures\n",
    "# from sklearn.tree import DecisionTreeClassifier\n",
    "from sklearn.ensemble import RandomForestClassifier\n",
    "from sklearn import datasets\n",
    "from sklearn.metrics import roc_auc_score, f1_score, balanced_accuracy_score\n",
    "\n",
    "import scipy\n",
    "from scipy import optimize\n",
    "\n",
    "import numpy as np\n",
    "\n",
    "from sklearn.metrics import confusion_matrix, accuracy_score, ConfusionMatrixDisplay, RocCurveDisplay, roc_curve\n",
    "\n",
    "import matplotlib.pyplot as plt\n",
    "\n",
    "import pandas as pd\n",
    "\n",
    "import seaborn as sns\n",
    "\n",
    "from collections import Counter\n",
    "\n",
    "sns.reset_orig()\n",
    "\n",
    "\n",
    "noise = 16\n",
    "samples = 2425\n",
    "seed = 244825\n",
    "classes = 2\n",
    "train_split = 0.8\n",
    "test_split = 0.2\n",
    "repeats = 100\n",
    "\n",
    "np.random.seed(seed)"
   ]
  },
  {
   "cell_type": "code",
   "execution_count": 2,
   "outputs": [
    {
     "name": "stderr",
     "output_type": "stream",
     "text": [
      "C:\\Users\\Jakub\\AppData\\Local\\Temp\\ipykernel_5020\\3154539491.py:1: DtypeWarning: Columns (3,4,5) have mixed types. Specify dtype option on import or set low_memory=False.\n",
      "  data = pd.read_csv('dataset.csv')\n"
     ]
    },
    {
     "name": "stdout",
     "output_type": "stream",
     "text": [
      "rows 958524\n",
      "<class 'pandas.core.frame.DataFrame'>\n",
      "RangeIndex: 958524 entries, 0 to 958523\n",
      "Data columns (total 45 columns):\n",
      " #   Column          Non-Null Count   Dtype  \n",
      "---  ------          --------------   -----  \n",
      " 0   id              958524 non-null  object \n",
      " 1   spkid           958524 non-null  int64  \n",
      " 2   full_name       958524 non-null  object \n",
      " 3   pdes            958524 non-null  object \n",
      " 4   name            22064 non-null   object \n",
      " 5   prefix          18 non-null      object \n",
      " 6   neo             958520 non-null  object \n",
      " 7   pha             938603 non-null  object \n",
      " 8   H               952261 non-null  float64\n",
      " 9   diameter        136209 non-null  float64\n",
      " 10  albedo          135103 non-null  float64\n",
      " 11  diameter_sigma  136081 non-null  float64\n",
      " 12  orbit_id        958524 non-null  object \n",
      " 13  epoch           958524 non-null  float64\n",
      " 14  epoch_mjd       958524 non-null  int64  \n",
      " 15  epoch_cal       958524 non-null  float64\n",
      " 16  equinox         958524 non-null  object \n",
      " 17  e               958524 non-null  float64\n",
      " 18  a               958524 non-null  float64\n",
      " 19  q               958524 non-null  float64\n",
      " 20  i               958524 non-null  float64\n",
      " 21  om              958524 non-null  float64\n",
      " 22  w               958524 non-null  float64\n",
      " 23  ma              958523 non-null  float64\n",
      " 24  ad              958520 non-null  float64\n",
      " 25  n               958524 non-null  float64\n",
      " 26  tp              958524 non-null  float64\n",
      " 27  tp_cal          958524 non-null  float64\n",
      " 28  per             958520 non-null  float64\n",
      " 29  per_y           958523 non-null  float64\n",
      " 30  moid            938603 non-null  float64\n",
      " 31  moid_ld         958397 non-null  float64\n",
      " 32  sigma_e         938602 non-null  float64\n",
      " 33  sigma_a         938602 non-null  float64\n",
      " 34  sigma_q         938602 non-null  float64\n",
      " 35  sigma_i         938602 non-null  float64\n",
      " 36  sigma_om        938602 non-null  float64\n",
      " 37  sigma_w         938602 non-null  float64\n",
      " 38  sigma_ma        938602 non-null  float64\n",
      " 39  sigma_ad        938598 non-null  float64\n",
      " 40  sigma_n         938602 non-null  float64\n",
      " 41  sigma_tp        938602 non-null  float64\n",
      " 42  sigma_per       938598 non-null  float64\n",
      " 43  class           958524 non-null  object \n",
      " 44  rms             958522 non-null  float64\n",
      "dtypes: float64(33), int64(2), object(10)\n",
      "memory usage: 329.1+ MB\n"
     ]
    }
   ],
   "source": [
    "data = pd.read_csv('dataset.csv')\n",
    "print('rows', len(data))\n",
    "data.info()"
   ],
   "metadata": {
    "collapsed": false,
    "pycharm": {
     "name": "#%%\n"
    }
   }
  },
  {
   "cell_type": "code",
   "execution_count": 3,
   "outputs": [
    {
     "data": {
      "text/plain": "id                 0.000000\nspkid              0.000000\nfull_name          0.000000\npdes               0.000000\nname              97.698128\nprefix            99.998122\nneo                0.000417\npha                2.078300\nH                  0.653400\ndiameter          85.789714\nalbedo            85.905100\ndiameter_sigma    85.803068\norbit_id           0.000000\nepoch              0.000000\nepoch_mjd          0.000000\nepoch_cal          0.000000\nequinox            0.000000\ne                  0.000000\na                  0.000000\nq                  0.000000\ni                  0.000000\nom                 0.000000\nw                  0.000000\nma                 0.000104\nad                 0.000417\nn                  0.000000\ntp                 0.000000\ntp_cal             0.000000\nper                0.000417\nper_y              0.000104\nmoid               2.078300\nmoid_ld            0.013250\nsigma_e            2.078404\nsigma_a            2.078404\nsigma_q            2.078404\nsigma_i            2.078404\nsigma_om           2.078404\nsigma_w            2.078404\nsigma_ma           2.078404\nsigma_ad           2.078821\nsigma_n            2.078404\nsigma_tp           2.078404\nsigma_per          2.078821\nclass              0.000000\nrms                0.000209\ndtype: float64"
     },
     "execution_count": 3,
     "metadata": {},
     "output_type": "execute_result"
    }
   ],
   "source": [
    "data.isna().sum() / len(data) * 100"
   ],
   "metadata": {
    "collapsed": false,
    "pycharm": {
     "name": "#%%\n"
    }
   }
  },
  {
   "cell_type": "code",
   "execution_count": 4,
   "outputs": [
    {
     "name": "stderr",
     "output_type": "stream",
     "text": [
      "C:\\Users\\Jakub\\AppData\\Local\\Temp\\ipykernel_5020\\3305123498.py:4: FutureWarning: Dropping of nuisance columns in DataFrame reductions (with 'numeric_only=None') is deprecated; in a future version this will raise TypeError.  Select only valid columns before calling the reduction.\n",
      "  data.max()\n"
     ]
    },
    {
     "data": {
      "text/plain": "H                         33.2\ne                     1.855356\na                 33488.895955\nq                    80.398819\ni                   175.082901\nom                  359.999793\nw                   359.999646\nma                  491.618014\nad                66972.796064\nn                     2.381082\ntp               2546362.29315\ntp_cal          22590808.79315\nper          2238461721.151791\nper_y           6128574.185221\nmoid                   79.4766\nmoid_ld           30929.908422\nsigma_e                39425.0\nsigma_a              3241200.0\nsigma_q              1015000.0\nsigma_i                55330.0\nsigma_om             1199100.0\nsigma_w         884510000000.0\nsigma_ma        884510000000.0\nsigma_ad             5509700.0\nsigma_n                 7698.8\nsigma_tp     285310000000000.0\nsigma_per        19107000000.0\nclass                      TNO\nrms                     2686.6\ndtype: object"
     },
     "execution_count": 4,
     "metadata": {},
     "output_type": "execute_result"
    }
   ],
   "source": [
    "data = data.drop(columns=['id', 'spkid', 'full_name', 'pdes', 'name', 'prefix', 'orbit_id', 'equinox', 'epoch', 'epoch_cal', 'epoch_mjd', 'diameter', 'diameter_sigma', 'albedo'])\n",
    "# data = data[data['neo'].notna()]\n",
    "len(data)\n",
    "data.max()"
   ],
   "metadata": {
    "collapsed": false,
    "pycharm": {
     "name": "#%%\n"
    }
   }
  },
  {
   "cell_type": "code",
   "execution_count": 5,
   "outputs": [],
   "source": [
    "def winsorize(df, exclude):\n",
    "    result = df.copy()\n",
    "    for feature_name in df.columns:\n",
    "        if feature_name not in exclude:\n",
    "            if df[feature_name].dtype == 'float64' or df[feature_name].dtype == 'int32' or df[feature_name].dtype == 'int64':\n",
    "                q1 = df[feature_name].quantile(0.25)\n",
    "                q3 = df[feature_name].quantile(0.75)\n",
    "\n",
    "                iqr = q3 - q1\n",
    "\n",
    "                lower_bound = q1 - (1.5 * iqr)\n",
    "                upper_bound = q3 + (1.5 * iqr)\n",
    "\n",
    "                df.loc[df[feature_name] < lower_bound, feature_name] = lower_bound\n",
    "                df.loc[df[feature_name] > upper_bound, feature_name] = upper_bound\n",
    "    return df\n",
    "\n",
    "\n",
    "\n",
    "def normalize(df, exclude):\n",
    "    result = df.copy()\n",
    "    for feature_name in df.columns:\n",
    "        if feature_name not in exclude:\n",
    "            if df[feature_name].dtype == 'float64' or df[feature_name].dtype == 'int32':\n",
    "                max_value = df[feature_name].max()\n",
    "                min_value = df[feature_name].min()\n",
    "                result[feature_name] = (df[feature_name] - min_value) / (max_value - min_value)\n",
    "    return result\n"
   ],
   "metadata": {
    "collapsed": false,
    "pycharm": {
     "name": "#%%\n"
    }
   }
  },
  {
   "cell_type": "code",
   "execution_count": 6,
   "outputs": [
    {
     "name": "stderr",
     "output_type": "stream",
     "text": [
      "C:\\Users\\Jakub\\AppData\\Local\\Temp\\ipykernel_5020\\988437687.py:2: FutureWarning: Dropping of nuisance columns in DataFrame reductions (with 'numeric_only=None') is deprecated; in a future version this will raise TypeError.  Select only valid columns before calling the reduction.\n",
      "  data.max()\n"
     ]
    },
    {
     "data": {
      "text/plain": "H                     20.135\ne                   0.363336\na                   3.923078\nq                   3.488686\ni                  24.770747\nom                359.999793\nw                 359.999646\nma                491.618014\nad                  4.239579\nn                    0.38354\ntp            2460562.729218\ntp_cal       20240840.229218\nper               2727.80534\nper_y               7.468327\nmoid                2.513872\nmoid_ld           980.219602\nsigma_e             0.000001\nsigma_a                  0.0\nsigma_q             0.000001\nsigma_i             0.000031\nsigma_om            0.000348\nsigma_w             0.000692\nsigma_ma            0.000391\nsigma_ad                 0.0\nsigma_n                  0.0\nsigma_tp            0.001868\nsigma_per           0.000217\nclass                    TNO\nrms                 0.757759\ndtype: object"
     },
     "execution_count": 6,
     "metadata": {},
     "output_type": "execute_result"
    }
   ],
   "source": [
    "data = winsorize(data, ['neo', 'pha', 'class'])\n",
    "data.max()"
   ],
   "metadata": {
    "collapsed": false,
    "pycharm": {
     "name": "#%%\n"
    }
   }
  },
  {
   "cell_type": "code",
   "execution_count": 7,
   "outputs": [
    {
     "name": "stderr",
     "output_type": "stream",
     "text": [
      "C:\\Users\\Jakub\\AppData\\Local\\Temp\\ipykernel_5020\\2695581229.py:2: FutureWarning: Dropping of nuisance columns in DataFrame reductions (with 'numeric_only=None') is deprecated; in a future version this will raise TypeError.  Select only valid columns before calling the reduction.\n",
      "  data.max()\n"
     ]
    },
    {
     "data": {
      "text/plain": "H            1.0\ne            1.0\na            1.0\nq            1.0\ni            1.0\nom           1.0\nw            1.0\nma           1.0\nad           1.0\nn            1.0\ntp           1.0\ntp_cal       1.0\nper          1.0\nper_y        1.0\nmoid         1.0\nmoid_ld      1.0\nsigma_e      1.0\nsigma_a      1.0\nsigma_q      1.0\nsigma_i      1.0\nsigma_om     1.0\nsigma_w      1.0\nsigma_ma     1.0\nsigma_ad     1.0\nsigma_n      1.0\nsigma_tp     1.0\nsigma_per    1.0\nclass        TNO\nrms          1.0\ndtype: object"
     },
     "execution_count": 7,
     "metadata": {},
     "output_type": "execute_result"
    }
   ],
   "source": [
    "data = normalize(data, ['neo', 'pha', 'class'])\n",
    "data.max()"
   ],
   "metadata": {
    "collapsed": false,
    "pycharm": {
     "name": "#%%\n"
    }
   }
  },
  {
   "cell_type": "code",
   "execution_count": 8,
   "outputs": [
    {
     "data": {
      "text/plain": "neo          0.000417\npha          2.078300\nH            0.653400\ne            0.000000\na            0.000000\nq            0.000000\ni            0.000000\nom           0.000000\nw            0.000000\nma           0.000104\nad           0.000417\nn            0.000000\ntp           0.000000\ntp_cal       0.000000\nper          0.000417\nper_y        0.000104\nmoid         2.078300\nmoid_ld      0.013250\nsigma_e      2.078404\nsigma_a      2.078404\nsigma_q      2.078404\nsigma_i      2.078404\nsigma_om     2.078404\nsigma_w      2.078404\nsigma_ma     2.078404\nsigma_ad     2.078821\nsigma_n      2.078404\nsigma_tp     2.078404\nsigma_per    2.078821\nclass        0.000000\nrms          0.000209\ndtype: float64"
     },
     "execution_count": 8,
     "metadata": {},
     "output_type": "execute_result"
    }
   ],
   "source": [
    "data.isna().sum() / len(data) * 100"
   ],
   "metadata": {
    "collapsed": false,
    "pycharm": {
     "name": "#%%\n"
    }
   }
  },
  {
   "cell_type": "code",
   "execution_count": 9,
   "outputs": [],
   "source": [
    "data_neo = data[data['neo'].notna()].drop(columns=['pha'])\n",
    "data_pha = data[data['pha'].notna()].drop(columns=['neo'])"
   ],
   "metadata": {
    "collapsed": false,
    "pycharm": {
     "name": "#%%\n"
    }
   }
  },
  {
   "cell_type": "code",
   "execution_count": 10,
   "outputs": [],
   "source": [
    "# data_neo = data_neo.fillna(values=data_neo.mean(), axis=1)\n",
    "\n",
    "def my_fill_mean(df):\n",
    "    for i in df.columns[df.isnull().any(axis=0)]:\n",
    "        df[i].fillna(df[i].mean(),inplace=True)\n",
    "\n",
    "my_fill_mean(data_neo)\n",
    "my_fill_mean(data_pha)"
   ],
   "metadata": {
    "collapsed": false,
    "pycharm": {
     "name": "#%%\n"
    }
   }
  },
  {
   "cell_type": "code",
   "execution_count": 11,
   "outputs": [
    {
     "data": {
      "text/plain": "neo          0\nH            0\ne            0\na            0\nq            0\ni            0\nom           0\nw            0\nma           0\nad           0\nn            0\ntp           0\ntp_cal       0\nper          0\nper_y        0\nmoid         0\nmoid_ld      0\nsigma_e      0\nsigma_a      0\nsigma_q      0\nsigma_i      0\nsigma_om     0\nsigma_w      0\nsigma_ma     0\nsigma_ad     0\nsigma_n      0\nsigma_tp     0\nsigma_per    0\nclass        0\nrms          0\ndtype: int64"
     },
     "execution_count": 11,
     "metadata": {},
     "output_type": "execute_result"
    }
   ],
   "source": [
    "data_neo.isna().sum()"
   ],
   "metadata": {
    "collapsed": false,
    "pycharm": {
     "name": "#%%\n"
    }
   }
  },
  {
   "cell_type": "code",
   "execution_count": 12,
   "outputs": [
    {
     "data": {
      "text/plain": "pha          0\nH            0\ne            0\na            0\nq            0\ni            0\nom           0\nw            0\nma           0\nad           0\nn            0\ntp           0\ntp_cal       0\nper          0\nper_y        0\nmoid         0\nmoid_ld      0\nsigma_e      0\nsigma_a      0\nsigma_q      0\nsigma_i      0\nsigma_om     0\nsigma_w      0\nsigma_ma     0\nsigma_ad     0\nsigma_n      0\nsigma_tp     0\nsigma_per    0\nclass        0\nrms          0\ndtype: int64"
     },
     "execution_count": 12,
     "metadata": {},
     "output_type": "execute_result"
    }
   ],
   "source": [
    "data_pha.isna().sum()"
   ],
   "metadata": {
    "collapsed": false,
    "pycharm": {
     "name": "#%%\n"
    }
   }
  },
  {
   "cell_type": "code",
   "execution_count": 13,
   "outputs": [
    {
     "data": {
      "text/plain": "  neo    H         e         a         q         i        om         w  \\\n0   0  0.0  0.209197  0.530240  0.616914  0.427506  0.223071  0.204438   \n1   0  0.0  0.632946  0.532144  0.442775  1.000000  0.480625  0.861674   \n2   0  0.0  0.707159  0.489172  0.379657  0.524302  0.471810  0.689073   \n3   0  0.0  0.244186  0.364245  0.449355  0.288092  0.288363  0.418691   \n4   0  0.0  0.525445  0.450803  0.420813  0.216439  0.393253  0.996247   \n\n         ma        ad  ...   sigma_i  sigma_om   sigma_w  sigma_ma  sigma_ad  \\\n0  0.263329  0.459897  ...  0.000000  0.000000  0.000000  0.000000  0.000000   \n1  0.383552  0.645128  ...  0.113084  0.017842  0.013091  0.022631  0.018749   \n2  0.348802  0.620315  ...  0.105045  0.047644  0.025505  0.020717  0.016486   \n3  0.296211  0.284688  ...  0.006934  0.000938  0.000163  0.003066  0.006202   \n4  0.157472  0.496681  ...  0.089304  0.082988  0.043016  0.021211  0.017869   \n\n    sigma_n  sigma_tp  sigma_per  class       rms  \n0  0.000000  0.000000   0.000000    MBA  0.153308  \n1  0.019384  0.021812   0.016883    MBA  0.000000  \n2  0.018381  0.018868   0.014245    MBA  0.000000  \n3  0.010860  0.002176   0.005819    MBA  0.066722  \n4  0.023014  0.018577   0.016008    MBA  0.385090  \n\n[5 rows x 30 columns]",
      "text/html": "<div>\n<style scoped>\n    .dataframe tbody tr th:only-of-type {\n        vertical-align: middle;\n    }\n\n    .dataframe tbody tr th {\n        vertical-align: top;\n    }\n\n    .dataframe thead th {\n        text-align: right;\n    }\n</style>\n<table border=\"1\" class=\"dataframe\">\n  <thead>\n    <tr style=\"text-align: right;\">\n      <th></th>\n      <th>neo</th>\n      <th>H</th>\n      <th>e</th>\n      <th>a</th>\n      <th>q</th>\n      <th>i</th>\n      <th>om</th>\n      <th>w</th>\n      <th>ma</th>\n      <th>ad</th>\n      <th>...</th>\n      <th>sigma_i</th>\n      <th>sigma_om</th>\n      <th>sigma_w</th>\n      <th>sigma_ma</th>\n      <th>sigma_ad</th>\n      <th>sigma_n</th>\n      <th>sigma_tp</th>\n      <th>sigma_per</th>\n      <th>class</th>\n      <th>rms</th>\n    </tr>\n  </thead>\n  <tbody>\n    <tr>\n      <th>0</th>\n      <td>0</td>\n      <td>0.0</td>\n      <td>0.209197</td>\n      <td>0.530240</td>\n      <td>0.616914</td>\n      <td>0.427506</td>\n      <td>0.223071</td>\n      <td>0.204438</td>\n      <td>0.263329</td>\n      <td>0.459897</td>\n      <td>...</td>\n      <td>0.000000</td>\n      <td>0.000000</td>\n      <td>0.000000</td>\n      <td>0.000000</td>\n      <td>0.000000</td>\n      <td>0.000000</td>\n      <td>0.000000</td>\n      <td>0.000000</td>\n      <td>MBA</td>\n      <td>0.153308</td>\n    </tr>\n    <tr>\n      <th>1</th>\n      <td>0</td>\n      <td>0.0</td>\n      <td>0.632946</td>\n      <td>0.532144</td>\n      <td>0.442775</td>\n      <td>1.000000</td>\n      <td>0.480625</td>\n      <td>0.861674</td>\n      <td>0.383552</td>\n      <td>0.645128</td>\n      <td>...</td>\n      <td>0.113084</td>\n      <td>0.017842</td>\n      <td>0.013091</td>\n      <td>0.022631</td>\n      <td>0.018749</td>\n      <td>0.019384</td>\n      <td>0.021812</td>\n      <td>0.016883</td>\n      <td>MBA</td>\n      <td>0.000000</td>\n    </tr>\n    <tr>\n      <th>2</th>\n      <td>0</td>\n      <td>0.0</td>\n      <td>0.707159</td>\n      <td>0.489172</td>\n      <td>0.379657</td>\n      <td>0.524302</td>\n      <td>0.471810</td>\n      <td>0.689073</td>\n      <td>0.348802</td>\n      <td>0.620315</td>\n      <td>...</td>\n      <td>0.105045</td>\n      <td>0.047644</td>\n      <td>0.025505</td>\n      <td>0.020717</td>\n      <td>0.016486</td>\n      <td>0.018381</td>\n      <td>0.018868</td>\n      <td>0.014245</td>\n      <td>MBA</td>\n      <td>0.000000</td>\n    </tr>\n    <tr>\n      <th>3</th>\n      <td>0</td>\n      <td>0.0</td>\n      <td>0.244186</td>\n      <td>0.364245</td>\n      <td>0.449355</td>\n      <td>0.288092</td>\n      <td>0.288363</td>\n      <td>0.418691</td>\n      <td>0.296211</td>\n      <td>0.284688</td>\n      <td>...</td>\n      <td>0.006934</td>\n      <td>0.000938</td>\n      <td>0.000163</td>\n      <td>0.003066</td>\n      <td>0.006202</td>\n      <td>0.010860</td>\n      <td>0.002176</td>\n      <td>0.005819</td>\n      <td>MBA</td>\n      <td>0.066722</td>\n    </tr>\n    <tr>\n      <th>4</th>\n      <td>0</td>\n      <td>0.0</td>\n      <td>0.525445</td>\n      <td>0.450803</td>\n      <td>0.420813</td>\n      <td>0.216439</td>\n      <td>0.393253</td>\n      <td>0.996247</td>\n      <td>0.157472</td>\n      <td>0.496681</td>\n      <td>...</td>\n      <td>0.089304</td>\n      <td>0.082988</td>\n      <td>0.043016</td>\n      <td>0.021211</td>\n      <td>0.017869</td>\n      <td>0.023014</td>\n      <td>0.018577</td>\n      <td>0.016008</td>\n      <td>MBA</td>\n      <td>0.385090</td>\n    </tr>\n  </tbody>\n</table>\n<p>5 rows × 30 columns</p>\n</div>"
     },
     "execution_count": 13,
     "metadata": {},
     "output_type": "execute_result"
    }
   ],
   "source": [
    "data_neo.loc[ data_neo['neo'] == 'N', 'neo'] = 0\n",
    "data_neo.loc[ data_neo['neo'] == 'Y', 'neo'] = 1\n",
    "\n",
    "data_neo = data_neo.reset_index(drop=True)\n",
    "data_neo.head()"
   ],
   "metadata": {
    "collapsed": false,
    "pycharm": {
     "name": "#%%\n"
    }
   }
  },
  {
   "cell_type": "code",
   "execution_count": 14,
   "outputs": [
    {
     "data": {
      "text/plain": "  pha    H         e         a         q         i        om         w  \\\n0   0  0.0  0.209197  0.530240  0.616914  0.427506  0.223071  0.204438   \n1   0  0.0  0.632946  0.532144  0.442775  1.000000  0.480625  0.861674   \n2   0  0.0  0.707159  0.489172  0.379657  0.524302  0.471810  0.689073   \n3   0  0.0  0.244186  0.364245  0.449355  0.288092  0.288363  0.418691   \n4   0  0.0  0.525445  0.450803  0.420813  0.216439  0.393253  0.996247   \n\n         ma        ad  ...   sigma_i  sigma_om   sigma_w  sigma_ma  sigma_ad  \\\n0  0.263329  0.459897  ...  0.000000  0.000000  0.000000  0.000000  0.000000   \n1  0.383552  0.645128  ...  0.113084  0.017842  0.013091  0.022631  0.018749   \n2  0.348802  0.620315  ...  0.105045  0.047644  0.025505  0.020717  0.016486   \n3  0.296211  0.284688  ...  0.006934  0.000938  0.000163  0.003066  0.006202   \n4  0.157472  0.496681  ...  0.089304  0.082988  0.043016  0.021211  0.017869   \n\n    sigma_n  sigma_tp  sigma_per  class       rms  \n0  0.000000  0.000000   0.000000    MBA  0.153308  \n1  0.019384  0.021812   0.016883    MBA  0.000000  \n2  0.018381  0.018868   0.014245    MBA  0.000000  \n3  0.010860  0.002176   0.005819    MBA  0.066722  \n4  0.023014  0.018577   0.016008    MBA  0.385090  \n\n[5 rows x 30 columns]",
      "text/html": "<div>\n<style scoped>\n    .dataframe tbody tr th:only-of-type {\n        vertical-align: middle;\n    }\n\n    .dataframe tbody tr th {\n        vertical-align: top;\n    }\n\n    .dataframe thead th {\n        text-align: right;\n    }\n</style>\n<table border=\"1\" class=\"dataframe\">\n  <thead>\n    <tr style=\"text-align: right;\">\n      <th></th>\n      <th>pha</th>\n      <th>H</th>\n      <th>e</th>\n      <th>a</th>\n      <th>q</th>\n      <th>i</th>\n      <th>om</th>\n      <th>w</th>\n      <th>ma</th>\n      <th>ad</th>\n      <th>...</th>\n      <th>sigma_i</th>\n      <th>sigma_om</th>\n      <th>sigma_w</th>\n      <th>sigma_ma</th>\n      <th>sigma_ad</th>\n      <th>sigma_n</th>\n      <th>sigma_tp</th>\n      <th>sigma_per</th>\n      <th>class</th>\n      <th>rms</th>\n    </tr>\n  </thead>\n  <tbody>\n    <tr>\n      <th>0</th>\n      <td>0</td>\n      <td>0.0</td>\n      <td>0.209197</td>\n      <td>0.530240</td>\n      <td>0.616914</td>\n      <td>0.427506</td>\n      <td>0.223071</td>\n      <td>0.204438</td>\n      <td>0.263329</td>\n      <td>0.459897</td>\n      <td>...</td>\n      <td>0.000000</td>\n      <td>0.000000</td>\n      <td>0.000000</td>\n      <td>0.000000</td>\n      <td>0.000000</td>\n      <td>0.000000</td>\n      <td>0.000000</td>\n      <td>0.000000</td>\n      <td>MBA</td>\n      <td>0.153308</td>\n    </tr>\n    <tr>\n      <th>1</th>\n      <td>0</td>\n      <td>0.0</td>\n      <td>0.632946</td>\n      <td>0.532144</td>\n      <td>0.442775</td>\n      <td>1.000000</td>\n      <td>0.480625</td>\n      <td>0.861674</td>\n      <td>0.383552</td>\n      <td>0.645128</td>\n      <td>...</td>\n      <td>0.113084</td>\n      <td>0.017842</td>\n      <td>0.013091</td>\n      <td>0.022631</td>\n      <td>0.018749</td>\n      <td>0.019384</td>\n      <td>0.021812</td>\n      <td>0.016883</td>\n      <td>MBA</td>\n      <td>0.000000</td>\n    </tr>\n    <tr>\n      <th>2</th>\n      <td>0</td>\n      <td>0.0</td>\n      <td>0.707159</td>\n      <td>0.489172</td>\n      <td>0.379657</td>\n      <td>0.524302</td>\n      <td>0.471810</td>\n      <td>0.689073</td>\n      <td>0.348802</td>\n      <td>0.620315</td>\n      <td>...</td>\n      <td>0.105045</td>\n      <td>0.047644</td>\n      <td>0.025505</td>\n      <td>0.020717</td>\n      <td>0.016486</td>\n      <td>0.018381</td>\n      <td>0.018868</td>\n      <td>0.014245</td>\n      <td>MBA</td>\n      <td>0.000000</td>\n    </tr>\n    <tr>\n      <th>3</th>\n      <td>0</td>\n      <td>0.0</td>\n      <td>0.244186</td>\n      <td>0.364245</td>\n      <td>0.449355</td>\n      <td>0.288092</td>\n      <td>0.288363</td>\n      <td>0.418691</td>\n      <td>0.296211</td>\n      <td>0.284688</td>\n      <td>...</td>\n      <td>0.006934</td>\n      <td>0.000938</td>\n      <td>0.000163</td>\n      <td>0.003066</td>\n      <td>0.006202</td>\n      <td>0.010860</td>\n      <td>0.002176</td>\n      <td>0.005819</td>\n      <td>MBA</td>\n      <td>0.066722</td>\n    </tr>\n    <tr>\n      <th>4</th>\n      <td>0</td>\n      <td>0.0</td>\n      <td>0.525445</td>\n      <td>0.450803</td>\n      <td>0.420813</td>\n      <td>0.216439</td>\n      <td>0.393253</td>\n      <td>0.996247</td>\n      <td>0.157472</td>\n      <td>0.496681</td>\n      <td>...</td>\n      <td>0.089304</td>\n      <td>0.082988</td>\n      <td>0.043016</td>\n      <td>0.021211</td>\n      <td>0.017869</td>\n      <td>0.023014</td>\n      <td>0.018577</td>\n      <td>0.016008</td>\n      <td>MBA</td>\n      <td>0.385090</td>\n    </tr>\n  </tbody>\n</table>\n<p>5 rows × 30 columns</p>\n</div>"
     },
     "execution_count": 14,
     "metadata": {},
     "output_type": "execute_result"
    }
   ],
   "source": [
    "data_pha.loc[ data_pha['pha'] == 'N', 'pha'] = 0\n",
    "data_pha.loc[ data_pha['pha'] == 'Y', 'pha'] = 1\n",
    "\n",
    "data_pha = data_pha.reset_index(drop=True)\n",
    "data_pha.head()"
   ],
   "metadata": {
    "collapsed": false,
    "pycharm": {
     "name": "#%%\n"
    }
   }
  },
  {
   "cell_type": "code",
   "execution_count": 15,
   "outputs": [
    {
     "data": {
      "text/plain": "        class_AMO  class_APO  class_AST  class_ATE  class_CEN  class_IEO  \\\n0             0.0        0.0        0.0        0.0        0.0        0.0   \n1             0.0        0.0        0.0        0.0        0.0        0.0   \n2             0.0        0.0        0.0        0.0        0.0        0.0   \n3             0.0        0.0        0.0        0.0        0.0        0.0   \n4             0.0        0.0        0.0        0.0        0.0        0.0   \n...           ...        ...        ...        ...        ...        ...   \n958515        0.0        0.0        0.0        0.0        0.0        0.0   \n958516        0.0        0.0        0.0        0.0        0.0        0.0   \n958517        0.0        1.0        0.0        0.0        0.0        0.0   \n958518        0.0        0.0        0.0        0.0        0.0        0.0   \n958519        0.0        0.0        0.0        0.0        0.0        0.0   \n\n        class_IMB  class_MBA  class_MCA  class_OMB  class_TJN  class_TNO  \n0             0.0        1.0        0.0        0.0        0.0        0.0  \n1             0.0        1.0        0.0        0.0        0.0        0.0  \n2             0.0        1.0        0.0        0.0        0.0        0.0  \n3             0.0        1.0        0.0        0.0        0.0        0.0  \n4             0.0        1.0        0.0        0.0        0.0        0.0  \n...           ...        ...        ...        ...        ...        ...  \n958515        0.0        1.0        0.0        0.0        0.0        0.0  \n958516        0.0        1.0        0.0        0.0        0.0        0.0  \n958517        0.0        0.0        0.0        0.0        0.0        0.0  \n958518        0.0        1.0        0.0        0.0        0.0        0.0  \n958519        0.0        1.0        0.0        0.0        0.0        0.0  \n\n[958520 rows x 12 columns]",
      "text/html": "<div>\n<style scoped>\n    .dataframe tbody tr th:only-of-type {\n        vertical-align: middle;\n    }\n\n    .dataframe tbody tr th {\n        vertical-align: top;\n    }\n\n    .dataframe thead th {\n        text-align: right;\n    }\n</style>\n<table border=\"1\" class=\"dataframe\">\n  <thead>\n    <tr style=\"text-align: right;\">\n      <th></th>\n      <th>class_AMO</th>\n      <th>class_APO</th>\n      <th>class_AST</th>\n      <th>class_ATE</th>\n      <th>class_CEN</th>\n      <th>class_IEO</th>\n      <th>class_IMB</th>\n      <th>class_MBA</th>\n      <th>class_MCA</th>\n      <th>class_OMB</th>\n      <th>class_TJN</th>\n      <th>class_TNO</th>\n    </tr>\n  </thead>\n  <tbody>\n    <tr>\n      <th>0</th>\n      <td>0.0</td>\n      <td>0.0</td>\n      <td>0.0</td>\n      <td>0.0</td>\n      <td>0.0</td>\n      <td>0.0</td>\n      <td>0.0</td>\n      <td>1.0</td>\n      <td>0.0</td>\n      <td>0.0</td>\n      <td>0.0</td>\n      <td>0.0</td>\n    </tr>\n    <tr>\n      <th>1</th>\n      <td>0.0</td>\n      <td>0.0</td>\n      <td>0.0</td>\n      <td>0.0</td>\n      <td>0.0</td>\n      <td>0.0</td>\n      <td>0.0</td>\n      <td>1.0</td>\n      <td>0.0</td>\n      <td>0.0</td>\n      <td>0.0</td>\n      <td>0.0</td>\n    </tr>\n    <tr>\n      <th>2</th>\n      <td>0.0</td>\n      <td>0.0</td>\n      <td>0.0</td>\n      <td>0.0</td>\n      <td>0.0</td>\n      <td>0.0</td>\n      <td>0.0</td>\n      <td>1.0</td>\n      <td>0.0</td>\n      <td>0.0</td>\n      <td>0.0</td>\n      <td>0.0</td>\n    </tr>\n    <tr>\n      <th>3</th>\n      <td>0.0</td>\n      <td>0.0</td>\n      <td>0.0</td>\n      <td>0.0</td>\n      <td>0.0</td>\n      <td>0.0</td>\n      <td>0.0</td>\n      <td>1.0</td>\n      <td>0.0</td>\n      <td>0.0</td>\n      <td>0.0</td>\n      <td>0.0</td>\n    </tr>\n    <tr>\n      <th>4</th>\n      <td>0.0</td>\n      <td>0.0</td>\n      <td>0.0</td>\n      <td>0.0</td>\n      <td>0.0</td>\n      <td>0.0</td>\n      <td>0.0</td>\n      <td>1.0</td>\n      <td>0.0</td>\n      <td>0.0</td>\n      <td>0.0</td>\n      <td>0.0</td>\n    </tr>\n    <tr>\n      <th>...</th>\n      <td>...</td>\n      <td>...</td>\n      <td>...</td>\n      <td>...</td>\n      <td>...</td>\n      <td>...</td>\n      <td>...</td>\n      <td>...</td>\n      <td>...</td>\n      <td>...</td>\n      <td>...</td>\n      <td>...</td>\n    </tr>\n    <tr>\n      <th>958515</th>\n      <td>0.0</td>\n      <td>0.0</td>\n      <td>0.0</td>\n      <td>0.0</td>\n      <td>0.0</td>\n      <td>0.0</td>\n      <td>0.0</td>\n      <td>1.0</td>\n      <td>0.0</td>\n      <td>0.0</td>\n      <td>0.0</td>\n      <td>0.0</td>\n    </tr>\n    <tr>\n      <th>958516</th>\n      <td>0.0</td>\n      <td>0.0</td>\n      <td>0.0</td>\n      <td>0.0</td>\n      <td>0.0</td>\n      <td>0.0</td>\n      <td>0.0</td>\n      <td>1.0</td>\n      <td>0.0</td>\n      <td>0.0</td>\n      <td>0.0</td>\n      <td>0.0</td>\n    </tr>\n    <tr>\n      <th>958517</th>\n      <td>0.0</td>\n      <td>1.0</td>\n      <td>0.0</td>\n      <td>0.0</td>\n      <td>0.0</td>\n      <td>0.0</td>\n      <td>0.0</td>\n      <td>0.0</td>\n      <td>0.0</td>\n      <td>0.0</td>\n      <td>0.0</td>\n      <td>0.0</td>\n    </tr>\n    <tr>\n      <th>958518</th>\n      <td>0.0</td>\n      <td>0.0</td>\n      <td>0.0</td>\n      <td>0.0</td>\n      <td>0.0</td>\n      <td>0.0</td>\n      <td>0.0</td>\n      <td>1.0</td>\n      <td>0.0</td>\n      <td>0.0</td>\n      <td>0.0</td>\n      <td>0.0</td>\n    </tr>\n    <tr>\n      <th>958519</th>\n      <td>0.0</td>\n      <td>0.0</td>\n      <td>0.0</td>\n      <td>0.0</td>\n      <td>0.0</td>\n      <td>0.0</td>\n      <td>0.0</td>\n      <td>1.0</td>\n      <td>0.0</td>\n      <td>0.0</td>\n      <td>0.0</td>\n      <td>0.0</td>\n    </tr>\n  </tbody>\n</table>\n<p>958520 rows × 12 columns</p>\n</div>"
     },
     "execution_count": 15,
     "metadata": {},
     "output_type": "execute_result"
    }
   ],
   "source": [
    "from sklearn.preprocessing import OneHotEncoder\n",
    "\n",
    "enc = OneHotEncoder(sparse=False)\n",
    "# classes = data_neo['class'].values\n",
    "# classes = classes.reshape(-1, 1)\n",
    "\n",
    "encoded_class = pd.DataFrame(enc.fit_transform(data_neo[['class']]))\n",
    "encoded_class.columns = enc.get_feature_names_out()\n",
    "encoded_class"
   ],
   "metadata": {
    "collapsed": false,
    "pycharm": {
     "name": "#%%\n"
    }
   }
  },
  {
   "cell_type": "code",
   "execution_count": 16,
   "outputs": [
    {
     "data": {
      "text/plain": "  neo    H         e         a         q         i        om         w  \\\n0   0  0.0  0.209197  0.530240  0.616914  0.427506  0.223071  0.204438   \n1   0  0.0  0.632946  0.532144  0.442775  1.000000  0.480625  0.861674   \n2   0  0.0  0.707159  0.489172  0.379657  0.524302  0.471810  0.689073   \n3   0  0.0  0.244186  0.364245  0.449355  0.288092  0.288363  0.418691   \n4   0  0.0  0.525445  0.450803  0.420813  0.216439  0.393253  0.996247   \n\n         ma        ad  ...  class_AST  class_ATE  class_CEN  class_IEO  \\\n0  0.263329  0.459897  ...        0.0        0.0        0.0        0.0   \n1  0.383552  0.645128  ...        0.0        0.0        0.0        0.0   \n2  0.348802  0.620315  ...        0.0        0.0        0.0        0.0   \n3  0.296211  0.284688  ...        0.0        0.0        0.0        0.0   \n4  0.157472  0.496681  ...        0.0        0.0        0.0        0.0   \n\n   class_IMB  class_MBA  class_MCA  class_OMB  class_TJN  class_TNO  \n0        0.0        1.0        0.0        0.0        0.0        0.0  \n1        0.0        1.0        0.0        0.0        0.0        0.0  \n2        0.0        1.0        0.0        0.0        0.0        0.0  \n3        0.0        1.0        0.0        0.0        0.0        0.0  \n4        0.0        1.0        0.0        0.0        0.0        0.0  \n\n[5 rows x 41 columns]",
      "text/html": "<div>\n<style scoped>\n    .dataframe tbody tr th:only-of-type {\n        vertical-align: middle;\n    }\n\n    .dataframe tbody tr th {\n        vertical-align: top;\n    }\n\n    .dataframe thead th {\n        text-align: right;\n    }\n</style>\n<table border=\"1\" class=\"dataframe\">\n  <thead>\n    <tr style=\"text-align: right;\">\n      <th></th>\n      <th>neo</th>\n      <th>H</th>\n      <th>e</th>\n      <th>a</th>\n      <th>q</th>\n      <th>i</th>\n      <th>om</th>\n      <th>w</th>\n      <th>ma</th>\n      <th>ad</th>\n      <th>...</th>\n      <th>class_AST</th>\n      <th>class_ATE</th>\n      <th>class_CEN</th>\n      <th>class_IEO</th>\n      <th>class_IMB</th>\n      <th>class_MBA</th>\n      <th>class_MCA</th>\n      <th>class_OMB</th>\n      <th>class_TJN</th>\n      <th>class_TNO</th>\n    </tr>\n  </thead>\n  <tbody>\n    <tr>\n      <th>0</th>\n      <td>0</td>\n      <td>0.0</td>\n      <td>0.209197</td>\n      <td>0.530240</td>\n      <td>0.616914</td>\n      <td>0.427506</td>\n      <td>0.223071</td>\n      <td>0.204438</td>\n      <td>0.263329</td>\n      <td>0.459897</td>\n      <td>...</td>\n      <td>0.0</td>\n      <td>0.0</td>\n      <td>0.0</td>\n      <td>0.0</td>\n      <td>0.0</td>\n      <td>1.0</td>\n      <td>0.0</td>\n      <td>0.0</td>\n      <td>0.0</td>\n      <td>0.0</td>\n    </tr>\n    <tr>\n      <th>1</th>\n      <td>0</td>\n      <td>0.0</td>\n      <td>0.632946</td>\n      <td>0.532144</td>\n      <td>0.442775</td>\n      <td>1.000000</td>\n      <td>0.480625</td>\n      <td>0.861674</td>\n      <td>0.383552</td>\n      <td>0.645128</td>\n      <td>...</td>\n      <td>0.0</td>\n      <td>0.0</td>\n      <td>0.0</td>\n      <td>0.0</td>\n      <td>0.0</td>\n      <td>1.0</td>\n      <td>0.0</td>\n      <td>0.0</td>\n      <td>0.0</td>\n      <td>0.0</td>\n    </tr>\n    <tr>\n      <th>2</th>\n      <td>0</td>\n      <td>0.0</td>\n      <td>0.707159</td>\n      <td>0.489172</td>\n      <td>0.379657</td>\n      <td>0.524302</td>\n      <td>0.471810</td>\n      <td>0.689073</td>\n      <td>0.348802</td>\n      <td>0.620315</td>\n      <td>...</td>\n      <td>0.0</td>\n      <td>0.0</td>\n      <td>0.0</td>\n      <td>0.0</td>\n      <td>0.0</td>\n      <td>1.0</td>\n      <td>0.0</td>\n      <td>0.0</td>\n      <td>0.0</td>\n      <td>0.0</td>\n    </tr>\n    <tr>\n      <th>3</th>\n      <td>0</td>\n      <td>0.0</td>\n      <td>0.244186</td>\n      <td>0.364245</td>\n      <td>0.449355</td>\n      <td>0.288092</td>\n      <td>0.288363</td>\n      <td>0.418691</td>\n      <td>0.296211</td>\n      <td>0.284688</td>\n      <td>...</td>\n      <td>0.0</td>\n      <td>0.0</td>\n      <td>0.0</td>\n      <td>0.0</td>\n      <td>0.0</td>\n      <td>1.0</td>\n      <td>0.0</td>\n      <td>0.0</td>\n      <td>0.0</td>\n      <td>0.0</td>\n    </tr>\n    <tr>\n      <th>4</th>\n      <td>0</td>\n      <td>0.0</td>\n      <td>0.525445</td>\n      <td>0.450803</td>\n      <td>0.420813</td>\n      <td>0.216439</td>\n      <td>0.393253</td>\n      <td>0.996247</td>\n      <td>0.157472</td>\n      <td>0.496681</td>\n      <td>...</td>\n      <td>0.0</td>\n      <td>0.0</td>\n      <td>0.0</td>\n      <td>0.0</td>\n      <td>0.0</td>\n      <td>1.0</td>\n      <td>0.0</td>\n      <td>0.0</td>\n      <td>0.0</td>\n      <td>0.0</td>\n    </tr>\n  </tbody>\n</table>\n<p>5 rows × 41 columns</p>\n</div>"
     },
     "execution_count": 16,
     "metadata": {},
     "output_type": "execute_result"
    }
   ],
   "source": [
    "data_neo = data_neo.drop(columns=['class']).join(encoded_class)\n",
    "data_neo.head()"
   ],
   "metadata": {
    "collapsed": false,
    "pycharm": {
     "name": "#%%\n"
    }
   }
  },
  {
   "cell_type": "code",
   "execution_count": 17,
   "outputs": [
    {
     "data": {
      "text/plain": "        class_AMO  class_APO  class_AST  class_ATE  class_CEN  class_HYA  \\\n0             0.0        0.0        0.0        0.0        0.0        0.0   \n1             0.0        0.0        0.0        0.0        0.0        0.0   \n2             0.0        0.0        0.0        0.0        0.0        0.0   \n3             0.0        0.0        0.0        0.0        0.0        0.0   \n4             0.0        0.0        0.0        0.0        0.0        0.0   \n...           ...        ...        ...        ...        ...        ...   \n938598        0.0        0.0        0.0        0.0        0.0        0.0   \n938599        0.0        0.0        0.0        0.0        0.0        0.0   \n938600        0.0        1.0        0.0        0.0        0.0        0.0   \n938601        0.0        0.0        0.0        0.0        0.0        0.0   \n938602        0.0        0.0        0.0        0.0        0.0        0.0   \n\n        class_IEO  class_IMB  class_MBA  class_MCA  class_OMB  class_TJN  \\\n0             0.0        0.0        1.0        0.0        0.0        0.0   \n1             0.0        0.0        1.0        0.0        0.0        0.0   \n2             0.0        0.0        1.0        0.0        0.0        0.0   \n3             0.0        0.0        1.0        0.0        0.0        0.0   \n4             0.0        0.0        1.0        0.0        0.0        0.0   \n...           ...        ...        ...        ...        ...        ...   \n938598        0.0        0.0        1.0        0.0        0.0        0.0   \n938599        0.0        0.0        1.0        0.0        0.0        0.0   \n938600        0.0        0.0        0.0        0.0        0.0        0.0   \n938601        0.0        0.0        1.0        0.0        0.0        0.0   \n938602        0.0        0.0        1.0        0.0        0.0        0.0   \n\n        class_TNO  \n0             0.0  \n1             0.0  \n2             0.0  \n3             0.0  \n4             0.0  \n...           ...  \n938598        0.0  \n938599        0.0  \n938600        0.0  \n938601        0.0  \n938602        0.0  \n\n[938603 rows x 13 columns]",
      "text/html": "<div>\n<style scoped>\n    .dataframe tbody tr th:only-of-type {\n        vertical-align: middle;\n    }\n\n    .dataframe tbody tr th {\n        vertical-align: top;\n    }\n\n    .dataframe thead th {\n        text-align: right;\n    }\n</style>\n<table border=\"1\" class=\"dataframe\">\n  <thead>\n    <tr style=\"text-align: right;\">\n      <th></th>\n      <th>class_AMO</th>\n      <th>class_APO</th>\n      <th>class_AST</th>\n      <th>class_ATE</th>\n      <th>class_CEN</th>\n      <th>class_HYA</th>\n      <th>class_IEO</th>\n      <th>class_IMB</th>\n      <th>class_MBA</th>\n      <th>class_MCA</th>\n      <th>class_OMB</th>\n      <th>class_TJN</th>\n      <th>class_TNO</th>\n    </tr>\n  </thead>\n  <tbody>\n    <tr>\n      <th>0</th>\n      <td>0.0</td>\n      <td>0.0</td>\n      <td>0.0</td>\n      <td>0.0</td>\n      <td>0.0</td>\n      <td>0.0</td>\n      <td>0.0</td>\n      <td>0.0</td>\n      <td>1.0</td>\n      <td>0.0</td>\n      <td>0.0</td>\n      <td>0.0</td>\n      <td>0.0</td>\n    </tr>\n    <tr>\n      <th>1</th>\n      <td>0.0</td>\n      <td>0.0</td>\n      <td>0.0</td>\n      <td>0.0</td>\n      <td>0.0</td>\n      <td>0.0</td>\n      <td>0.0</td>\n      <td>0.0</td>\n      <td>1.0</td>\n      <td>0.0</td>\n      <td>0.0</td>\n      <td>0.0</td>\n      <td>0.0</td>\n    </tr>\n    <tr>\n      <th>2</th>\n      <td>0.0</td>\n      <td>0.0</td>\n      <td>0.0</td>\n      <td>0.0</td>\n      <td>0.0</td>\n      <td>0.0</td>\n      <td>0.0</td>\n      <td>0.0</td>\n      <td>1.0</td>\n      <td>0.0</td>\n      <td>0.0</td>\n      <td>0.0</td>\n      <td>0.0</td>\n    </tr>\n    <tr>\n      <th>3</th>\n      <td>0.0</td>\n      <td>0.0</td>\n      <td>0.0</td>\n      <td>0.0</td>\n      <td>0.0</td>\n      <td>0.0</td>\n      <td>0.0</td>\n      <td>0.0</td>\n      <td>1.0</td>\n      <td>0.0</td>\n      <td>0.0</td>\n      <td>0.0</td>\n      <td>0.0</td>\n    </tr>\n    <tr>\n      <th>4</th>\n      <td>0.0</td>\n      <td>0.0</td>\n      <td>0.0</td>\n      <td>0.0</td>\n      <td>0.0</td>\n      <td>0.0</td>\n      <td>0.0</td>\n      <td>0.0</td>\n      <td>1.0</td>\n      <td>0.0</td>\n      <td>0.0</td>\n      <td>0.0</td>\n      <td>0.0</td>\n    </tr>\n    <tr>\n      <th>...</th>\n      <td>...</td>\n      <td>...</td>\n      <td>...</td>\n      <td>...</td>\n      <td>...</td>\n      <td>...</td>\n      <td>...</td>\n      <td>...</td>\n      <td>...</td>\n      <td>...</td>\n      <td>...</td>\n      <td>...</td>\n      <td>...</td>\n    </tr>\n    <tr>\n      <th>938598</th>\n      <td>0.0</td>\n      <td>0.0</td>\n      <td>0.0</td>\n      <td>0.0</td>\n      <td>0.0</td>\n      <td>0.0</td>\n      <td>0.0</td>\n      <td>0.0</td>\n      <td>1.0</td>\n      <td>0.0</td>\n      <td>0.0</td>\n      <td>0.0</td>\n      <td>0.0</td>\n    </tr>\n    <tr>\n      <th>938599</th>\n      <td>0.0</td>\n      <td>0.0</td>\n      <td>0.0</td>\n      <td>0.0</td>\n      <td>0.0</td>\n      <td>0.0</td>\n      <td>0.0</td>\n      <td>0.0</td>\n      <td>1.0</td>\n      <td>0.0</td>\n      <td>0.0</td>\n      <td>0.0</td>\n      <td>0.0</td>\n    </tr>\n    <tr>\n      <th>938600</th>\n      <td>0.0</td>\n      <td>1.0</td>\n      <td>0.0</td>\n      <td>0.0</td>\n      <td>0.0</td>\n      <td>0.0</td>\n      <td>0.0</td>\n      <td>0.0</td>\n      <td>0.0</td>\n      <td>0.0</td>\n      <td>0.0</td>\n      <td>0.0</td>\n      <td>0.0</td>\n    </tr>\n    <tr>\n      <th>938601</th>\n      <td>0.0</td>\n      <td>0.0</td>\n      <td>0.0</td>\n      <td>0.0</td>\n      <td>0.0</td>\n      <td>0.0</td>\n      <td>0.0</td>\n      <td>0.0</td>\n      <td>1.0</td>\n      <td>0.0</td>\n      <td>0.0</td>\n      <td>0.0</td>\n      <td>0.0</td>\n    </tr>\n    <tr>\n      <th>938602</th>\n      <td>0.0</td>\n      <td>0.0</td>\n      <td>0.0</td>\n      <td>0.0</td>\n      <td>0.0</td>\n      <td>0.0</td>\n      <td>0.0</td>\n      <td>0.0</td>\n      <td>1.0</td>\n      <td>0.0</td>\n      <td>0.0</td>\n      <td>0.0</td>\n      <td>0.0</td>\n    </tr>\n  </tbody>\n</table>\n<p>938603 rows × 13 columns</p>\n</div>"
     },
     "execution_count": 17,
     "metadata": {},
     "output_type": "execute_result"
    }
   ],
   "source": [
    "from sklearn.preprocessing import OneHotEncoder\n",
    "\n",
    "enc = OneHotEncoder(sparse=False)\n",
    "# classes = data_neo['class'].values\n",
    "# classes = classes.reshape(-1, 1)\n",
    "\n",
    "encoded_class = pd.DataFrame(enc.fit_transform(data_pha[['class']]))\n",
    "encoded_class.columns = enc.get_feature_names_out()\n",
    "encoded_class"
   ],
   "metadata": {
    "collapsed": false,
    "pycharm": {
     "name": "#%%\n"
    }
   }
  },
  {
   "cell_type": "code",
   "execution_count": 18,
   "outputs": [
    {
     "data": {
      "text/plain": "  pha    H         e         a         q         i        om         w  \\\n0   0  0.0  0.209197  0.530240  0.616914  0.427506  0.223071  0.204438   \n1   0  0.0  0.632946  0.532144  0.442775  1.000000  0.480625  0.861674   \n2   0  0.0  0.707159  0.489172  0.379657  0.524302  0.471810  0.689073   \n3   0  0.0  0.244186  0.364245  0.449355  0.288092  0.288363  0.418691   \n4   0  0.0  0.525445  0.450803  0.420813  0.216439  0.393253  0.996247   \n\n         ma        ad  ...  class_ATE  class_CEN  class_HYA  class_IEO  \\\n0  0.263329  0.459897  ...        0.0        0.0        0.0        0.0   \n1  0.383552  0.645128  ...        0.0        0.0        0.0        0.0   \n2  0.348802  0.620315  ...        0.0        0.0        0.0        0.0   \n3  0.296211  0.284688  ...        0.0        0.0        0.0        0.0   \n4  0.157472  0.496681  ...        0.0        0.0        0.0        0.0   \n\n   class_IMB  class_MBA  class_MCA  class_OMB  class_TJN  class_TNO  \n0        0.0        1.0        0.0        0.0        0.0        0.0  \n1        0.0        1.0        0.0        0.0        0.0        0.0  \n2        0.0        1.0        0.0        0.0        0.0        0.0  \n3        0.0        1.0        0.0        0.0        0.0        0.0  \n4        0.0        1.0        0.0        0.0        0.0        0.0  \n\n[5 rows x 42 columns]",
      "text/html": "<div>\n<style scoped>\n    .dataframe tbody tr th:only-of-type {\n        vertical-align: middle;\n    }\n\n    .dataframe tbody tr th {\n        vertical-align: top;\n    }\n\n    .dataframe thead th {\n        text-align: right;\n    }\n</style>\n<table border=\"1\" class=\"dataframe\">\n  <thead>\n    <tr style=\"text-align: right;\">\n      <th></th>\n      <th>pha</th>\n      <th>H</th>\n      <th>e</th>\n      <th>a</th>\n      <th>q</th>\n      <th>i</th>\n      <th>om</th>\n      <th>w</th>\n      <th>ma</th>\n      <th>ad</th>\n      <th>...</th>\n      <th>class_ATE</th>\n      <th>class_CEN</th>\n      <th>class_HYA</th>\n      <th>class_IEO</th>\n      <th>class_IMB</th>\n      <th>class_MBA</th>\n      <th>class_MCA</th>\n      <th>class_OMB</th>\n      <th>class_TJN</th>\n      <th>class_TNO</th>\n    </tr>\n  </thead>\n  <tbody>\n    <tr>\n      <th>0</th>\n      <td>0</td>\n      <td>0.0</td>\n      <td>0.209197</td>\n      <td>0.530240</td>\n      <td>0.616914</td>\n      <td>0.427506</td>\n      <td>0.223071</td>\n      <td>0.204438</td>\n      <td>0.263329</td>\n      <td>0.459897</td>\n      <td>...</td>\n      <td>0.0</td>\n      <td>0.0</td>\n      <td>0.0</td>\n      <td>0.0</td>\n      <td>0.0</td>\n      <td>1.0</td>\n      <td>0.0</td>\n      <td>0.0</td>\n      <td>0.0</td>\n      <td>0.0</td>\n    </tr>\n    <tr>\n      <th>1</th>\n      <td>0</td>\n      <td>0.0</td>\n      <td>0.632946</td>\n      <td>0.532144</td>\n      <td>0.442775</td>\n      <td>1.000000</td>\n      <td>0.480625</td>\n      <td>0.861674</td>\n      <td>0.383552</td>\n      <td>0.645128</td>\n      <td>...</td>\n      <td>0.0</td>\n      <td>0.0</td>\n      <td>0.0</td>\n      <td>0.0</td>\n      <td>0.0</td>\n      <td>1.0</td>\n      <td>0.0</td>\n      <td>0.0</td>\n      <td>0.0</td>\n      <td>0.0</td>\n    </tr>\n    <tr>\n      <th>2</th>\n      <td>0</td>\n      <td>0.0</td>\n      <td>0.707159</td>\n      <td>0.489172</td>\n      <td>0.379657</td>\n      <td>0.524302</td>\n      <td>0.471810</td>\n      <td>0.689073</td>\n      <td>0.348802</td>\n      <td>0.620315</td>\n      <td>...</td>\n      <td>0.0</td>\n      <td>0.0</td>\n      <td>0.0</td>\n      <td>0.0</td>\n      <td>0.0</td>\n      <td>1.0</td>\n      <td>0.0</td>\n      <td>0.0</td>\n      <td>0.0</td>\n      <td>0.0</td>\n    </tr>\n    <tr>\n      <th>3</th>\n      <td>0</td>\n      <td>0.0</td>\n      <td>0.244186</td>\n      <td>0.364245</td>\n      <td>0.449355</td>\n      <td>0.288092</td>\n      <td>0.288363</td>\n      <td>0.418691</td>\n      <td>0.296211</td>\n      <td>0.284688</td>\n      <td>...</td>\n      <td>0.0</td>\n      <td>0.0</td>\n      <td>0.0</td>\n      <td>0.0</td>\n      <td>0.0</td>\n      <td>1.0</td>\n      <td>0.0</td>\n      <td>0.0</td>\n      <td>0.0</td>\n      <td>0.0</td>\n    </tr>\n    <tr>\n      <th>4</th>\n      <td>0</td>\n      <td>0.0</td>\n      <td>0.525445</td>\n      <td>0.450803</td>\n      <td>0.420813</td>\n      <td>0.216439</td>\n      <td>0.393253</td>\n      <td>0.996247</td>\n      <td>0.157472</td>\n      <td>0.496681</td>\n      <td>...</td>\n      <td>0.0</td>\n      <td>0.0</td>\n      <td>0.0</td>\n      <td>0.0</td>\n      <td>0.0</td>\n      <td>1.0</td>\n      <td>0.0</td>\n      <td>0.0</td>\n      <td>0.0</td>\n      <td>0.0</td>\n    </tr>\n  </tbody>\n</table>\n<p>5 rows × 42 columns</p>\n</div>"
     },
     "execution_count": 18,
     "metadata": {},
     "output_type": "execute_result"
    }
   ],
   "source": [
    "data_pha = data_pha.drop(columns=['class']).join(encoded_class)\n",
    "data_pha.head()"
   ],
   "metadata": {
    "collapsed": false,
    "pycharm": {
     "name": "#%%\n"
    }
   }
  },
  {
   "cell_type": "code",
   "execution_count": 19,
   "outputs": [
    {
     "data": {
      "text/plain": "neo          0\nH            0\ne            0\na            0\nq            0\ni            0\nom           0\nw            0\nma           0\nad           0\nn            0\ntp           0\ntp_cal       0\nper          0\nper_y        0\nmoid         0\nmoid_ld      0\nsigma_e      0\nsigma_a      0\nsigma_q      0\nsigma_i      0\nsigma_om     0\nsigma_w      0\nsigma_ma     0\nsigma_ad     0\nsigma_n      0\nsigma_tp     0\nsigma_per    0\nrms          0\nclass_AMO    0\nclass_APO    0\nclass_AST    0\nclass_ATE    0\nclass_CEN    0\nclass_IEO    0\nclass_IMB    0\nclass_MBA    0\nclass_MCA    0\nclass_OMB    0\nclass_TJN    0\nclass_TNO    0\ndtype: int64"
     },
     "execution_count": 19,
     "metadata": {},
     "output_type": "execute_result"
    }
   ],
   "source": [
    "data_neo.isna().sum()"
   ],
   "metadata": {
    "collapsed": false,
    "pycharm": {
     "name": "#%%\n"
    }
   }
  },
  {
   "cell_type": "code",
   "execution_count": 20,
   "outputs": [
    {
     "data": {
      "text/plain": "pha          0\nH            0\ne            0\na            0\nq            0\ni            0\nom           0\nw            0\nma           0\nad           0\nn            0\ntp           0\ntp_cal       0\nper          0\nper_y        0\nmoid         0\nmoid_ld      0\nsigma_e      0\nsigma_a      0\nsigma_q      0\nsigma_i      0\nsigma_om     0\nsigma_w      0\nsigma_ma     0\nsigma_ad     0\nsigma_n      0\nsigma_tp     0\nsigma_per    0\nrms          0\nclass_AMO    0\nclass_APO    0\nclass_AST    0\nclass_ATE    0\nclass_CEN    0\nclass_HYA    0\nclass_IEO    0\nclass_IMB    0\nclass_MBA    0\nclass_MCA    0\nclass_OMB    0\nclass_TJN    0\nclass_TNO    0\ndtype: int64"
     },
     "execution_count": 20,
     "metadata": {},
     "output_type": "execute_result"
    }
   ],
   "source": [
    "data_pha.isna().sum()"
   ],
   "metadata": {
    "collapsed": false,
    "pycharm": {
     "name": "#%%\n"
    }
   }
  },
  {
   "cell_type": "code",
   "execution_count": 21,
   "outputs": [
    {
     "data": {
      "text/plain": "<AxesSubplot:>"
     },
     "execution_count": 21,
     "metadata": {},
     "output_type": "execute_result"
    },
    {
     "data": {
      "text/plain": "<Figure size 432x288 with 2 Axes>",
      "image/png": "[encoded data removed]"
     },
     "metadata": {
      "needs_background": "light"
     },
     "output_type": "display_data"
    }
   ],
   "source": [
    "sns.heatmap(data_neo.corr())"
   ],
   "metadata": {
    "collapsed": false,
    "pycharm": {
     "name": "#%%\n"
    }
   }
  },
  {
   "cell_type": "code",
   "execution_count": 22,
   "outputs": [
    {
     "data": {
      "text/plain": "<AxesSubplot:>"
     },
     "execution_count": 22,
     "metadata": {},
     "output_type": "execute_result"
    },
    {
     "data": {
      "text/plain": "<Figure size 432x288 with 2 Axes>",
      "image/png": "[encoded data removed]"
     },
     "metadata": {
      "needs_background": "light"
     },
     "output_type": "display_data"
    }
   ],
   "source": [
    "sns.heatmap(data_pha.corr())"
   ],
   "metadata": {
    "collapsed": false,
    "pycharm": {
     "name": "#%%\n"
    }
   }
  },
  {
   "cell_type": "code",
   "execution_count": 23,
   "outputs": [],
   "source": [
    "from sklearn.model_selection import GridSearchCV\n",
    "\n",
    "X = data_neo.drop(axis=1, columns=['neo']).to_numpy()\n",
    "y = data_neo['neo'].to_numpy().astype('int')\n",
    "\n",
    "X_train, X_test, y_train, y_test = train_test_split(X, y, train_size=0.08, test_size=0.02, random_state=seed, shuffle=True)"
   ],
   "metadata": {
    "collapsed": false,
    "pycharm": {
     "name": "#%%\n"
    }
   }
  },
  {
   "cell_type": "code",
   "execution_count": 24,
   "outputs": [
    {
     "data": {
      "text/plain": "76681"
     },
     "execution_count": 24,
     "metadata": {},
     "output_type": "execute_result"
    }
   ],
   "source": [
    "len(y_train)"
   ],
   "metadata": {
    "collapsed": false,
    "pycharm": {
     "name": "#%%\n"
    }
   }
  },
  {
   "cell_type": "code",
   "execution_count": 25,
   "outputs": [],
   "source": [
    "model = RandomForestClassifier()\n",
    "# n_estimators, criterion, max_depth,\n",
    "# min_samples_split oraz min_samples_leaf\n",
    "parameters = {'n_estimators': [10, 100, 1000],\n",
    "              'criterion': ['entropy', 'gini'],\n",
    "              'max_depth': [1, 100, len(X_train)],\n",
    "              'min_samples_split': [2, 5],\n",
    "              'min_samples_leaf': [1, 2]\n",
    "              }\n",
    "clf = GridSearchCV(model, parameters, cv=3, n_jobs=-1, verbose=3)"
   ],
   "metadata": {
    "collapsed": false,
    "pycharm": {
     "name": "#%%\n"
    }
   }
  },
  {
   "cell_type": "code",
   "execution_count": 26,
   "outputs": [
    {
     "name": "stdout",
     "output_type": "stream",
     "text": [
      "Fitting 3 folds for each of 72 candidates, totalling 216 fits\n",
      "781.2007322999998\n"
     ]
    }
   ],
   "source": [
    "ttt = time.perf_counter()\n",
    "clf.fit(X_train, y_train)\n",
    "print(time.perf_counter() - ttt)"
   ],
   "metadata": {
    "collapsed": false,
    "pycharm": {
     "name": "#%%\n"
    }
   }
  },
  {
   "cell_type": "code",
   "execution_count": 27,
   "outputs": [
    {
     "name": "stdout",
     "output_type": "stream",
     "text": [
      "{'criterion': 'entropy', 'max_depth': 100, 'min_samples_leaf': 1, 'min_samples_split': 2, 'n_estimators': 100}\n"
     ]
    }
   ],
   "source": [
    "print(clf.best_params_)"
   ],
   "metadata": {
    "collapsed": false,
    "pycharm": {
     "name": "#%%\n"
    }
   }
  },
  {
   "cell_type": "code",
   "execution_count": 28,
   "outputs": [],
   "source": [
    "y_predicted = clf.predict(X_test)"
   ],
   "metadata": {
    "collapsed": false,
    "pycharm": {
     "name": "#%%\n"
    }
   }
  },
  {
   "cell_type": "code",
   "execution_count": 29,
   "outputs": [
    {
     "name": "stdout",
     "output_type": "stream",
     "text": [
      "Czulosc: 1.0\n",
      "Swoistosc: 1.0\n",
      "Accuracy: 1.0\n",
      "ROC auc: 1.0\n",
      "F1 score: 1.0\n",
      "BA score: 1.0\n"
     ]
    },
    {
     "data": {
      "text/plain": "<Figure size 720x720 with 0 Axes>"
     },
     "metadata": {},
     "output_type": "display_data"
    },
    {
     "data": {
      "text/plain": "<Figure size 432x288 with 2 Axes>",
      "image/png": "[encoded data removed]"
     },
     "metadata": {
      "needs_background": "light"
     },
     "output_type": "display_data"
    },
    {
     "data": {
      "text/plain": "<Figure size 432x288 with 1 Axes>",
      "image/png": "[encoded data removed]"
     },
     "metadata": {
      "needs_background": "light"
     },
     "output_type": "display_data"
    }
   ],
   "source": [
    "plt.figure(figsize=(10, 10))\n",
    "\n",
    "cm_model = confusion_matrix(y_test, y_predicted)\n",
    "tn_model = cm_model[0][0]\n",
    "fn_model = cm_model[0][1]\n",
    "tp_model = cm_model[1][1]\n",
    "fp_model = cm_model[1][0]\n",
    "ConfusionMatrixDisplay(cm_model).plot(cmap='gray')\n",
    "\n",
    "fpr, tpr, roc_auc = roc_curve(y_test, y_predicted)\n",
    "\n",
    "rok_model = RocCurveDisplay(fpr=fpr, tpr=tpr)\n",
    "rok_model.plot()\n",
    "\n",
    "print(\"Czulosc:\", tp_model/(tp_model + fn_model))\n",
    "print(\"Swoistosc:\", tn_model/(tn_model + fp_model))\n",
    "print(\"Accuracy:\", (tp_model + tn_model) / (tp_model + tn_model + fp_model + fn_model))\n",
    "\n",
    "print(\"ROC auc:\", roc_auc_score(y_test, y_predicted))\n",
    "print(\"F1 score:\", f1_score(y_test, y_predicted))\n",
    "print(\"BA score:\", balanced_accuracy_score(y_test, y_predicted))"
   ],
   "metadata": {
    "collapsed": false,
    "pycharm": {
     "name": "#%%\n"
    }
   }
  },
  {
   "cell_type": "code",
   "execution_count": 30,
   "outputs": [],
   "source": [
    "from sklearn.model_selection import GridSearchCV\n",
    "\n",
    "X = data_pha.drop(axis=1, columns=['pha']).to_numpy()\n",
    "y = data_pha['pha'].to_numpy().astype('int')\n",
    "\n",
    "X_train, X_test, y_train, y_test = train_test_split(X, y, train_size=0.08, test_size=0.02, random_state=seed, shuffle=True)"
   ],
   "metadata": {
    "collapsed": false,
    "pycharm": {
     "name": "#%%\n"
    }
   }
  },
  {
   "cell_type": "code",
   "execution_count": 31,
   "outputs": [],
   "source": [
    "model = RandomForestClassifier()\n",
    "# n_estimators, criterion, max_depth,\n",
    "# min_samples_split oraz min_samples_leaf\n",
    "parameters = {'n_estimators': [10, 100, 1000],\n",
    "              'criterion': ['entropy', 'gini'],\n",
    "              'max_depth': [1, 100, len(X_train)],\n",
    "              'min_samples_split': [2, 5],\n",
    "              'min_samples_leaf': [1, 2]\n",
    "              }\n",
    "clf = GridSearchCV(model, parameters, cv=3, n_jobs=-1, verbose=3)"
   ],
   "metadata": {
    "collapsed": false,
    "pycharm": {
     "name": "#%%\n"
    }
   }
  },
  {
   "cell_type": "code",
   "execution_count": 32,
   "outputs": [
    {
     "name": "stdout",
     "output_type": "stream",
     "text": [
      "Fitting 3 folds for each of 72 candidates, totalling 216 fits\n",
      "605.4451858000248\n"
     ]
    }
   ],
   "source": [
    "ttt = time.perf_counter()\n",
    "clf.fit(X_train, y_train)\n",
    "print(time.perf_counter() - ttt)"
   ],
   "metadata": {
    "collapsed": false,
    "pycharm": {
     "name": "#%%\n"
    }
   }
  },
  {
   "cell_type": "code",
   "execution_count": 35,
   "outputs": [
    {
     "name": "stdout",
     "output_type": "stream",
     "text": [
      "{'criterion': 'entropy', 'max_depth': 75088, 'min_samples_leaf': 1, 'min_samples_split': 2, 'n_estimators': 100}\n"
     ]
    }
   ],
   "source": [
    "print(clf.best_params_)"
   ],
   "metadata": {
    "collapsed": false,
    "pycharm": {
     "name": "#%%\n"
    }
   }
  },
  {
   "cell_type": "code",
   "execution_count": 33,
   "outputs": [],
   "source": [
    "y_predicted = clf.predict(X_test)"
   ],
   "metadata": {
    "collapsed": false,
    "pycharm": {
     "name": "#%%\n"
    }
   }
  },
  {
   "cell_type": "code",
   "execution_count": 34,
   "outputs": [
    {
     "name": "stdout",
     "output_type": "stream",
     "text": [
      "Czulosc: 0.9375\n",
      "Swoistosc: 0.9994664105437276\n",
      "Accuracy: 0.9993607841048314\n",
      "ROC auc: 0.874946618267229\n",
      "F1 score: 0.8333333333333334\n",
      "BA score: 0.874946618267229\n"
     ]
    },
    {
     "data": {
      "text/plain": "<Figure size 720x720 with 0 Axes>"
     },
     "metadata": {},
     "output_type": "display_data"
    },
    {
     "data": {
      "text/plain": "<Figure size 432x288 with 2 Axes>",
      "image/png": "[encoded data removed]"
     },
     "metadata": {
      "needs_background": "light"
     },
     "output_type": "display_data"
    },
    {
     "data": {
      "text/plain": "<Figure size 432x288 with 1 Axes>",
      "image/png": "[encoded data removed]"
     },
     "metadata": {
      "needs_background": "light"
     },
     "output_type": "display_data"
    }
   ],
   "source": [
    "plt.figure(figsize=(10, 10))\n",
    "\n",
    "cm_model = confusion_matrix(y_test, y_predicted)\n",
    "tn_model = cm_model[0][0]\n",
    "fn_model = cm_model[0][1]\n",
    "tp_model = cm_model[1][1]\n",
    "fp_model = cm_model[1][0]\n",
    "ConfusionMatrixDisplay(cm_model).plot(cmap='gray')\n",
    "\n",
    "fpr, tpr, roc_auc = roc_curve(y_test, y_predicted)\n",
    "\n",
    "rok_model = RocCurveDisplay(fpr=fpr, tpr=tpr)\n",
    "rok_model.plot()\n",
    "\n",
    "print(\"Czulosc:\", tp_model/(tp_model + fn_model))\n",
    "print(\"Swoistosc:\", tn_model/(tn_model + fp_model))\n",
    "print(\"Accuracy:\", (tp_model + tn_model) / (tp_model + tn_model + fp_model + fn_model))\n",
    "\n",
    "print(\"ROC auc:\", roc_auc_score(y_test, y_predicted))\n",
    "print(\"F1 score:\", f1_score(y_test, y_predicted))\n",
    "print(\"BA score:\", balanced_accuracy_score(y_test, y_predicted))"
   ],
   "metadata": {
    "collapsed": false,
    "pycharm": {
     "name": "#%%\n"
    }
   }
  },
  {
   "cell_type": "code",
   "execution_count": 40,
   "outputs": [],
   "source": [
    "from sklearn.model_selection import GridSearchCV\n",
    "\n",
    "X = data_neo.drop(axis=1, columns=['neo']).to_numpy()\n",
    "y = data_neo['neo'].to_numpy().astype('int')\n",
    "\n",
    "X_train, X_test, y_train, y_test = train_test_split(X, y, train_size=0.8, test_size=0.2, random_state=seed, shuffle=True)"
   ],
   "metadata": {
    "collapsed": false,
    "pycharm": {
     "name": "#%%\n"
    }
   }
  },
  {
   "cell_type": "code",
   "execution_count": 41,
   "outputs": [
    {
     "data": {
      "text/plain": "RandomForestClassifier(criterion='entropy', max_depth=100)"
     },
     "execution_count": 41,
     "metadata": {},
     "output_type": "execute_result"
    }
   ],
   "source": [
    "model = RandomForestClassifier(criterion='entropy', max_depth=100, min_samples_leaf=1, min_samples_split=2, n_estimators=100)\n",
    "\n",
    "model.fit(X_train, y_train)"
   ],
   "metadata": {
    "collapsed": false,
    "pycharm": {
     "name": "#%%\n"
    }
   }
  },
  {
   "cell_type": "code",
   "execution_count": 42,
   "outputs": [],
   "source": [
    "y_predicted = model.predict(X_test)"
   ],
   "metadata": {
    "collapsed": false,
    "pycharm": {
     "name": "#%%\n"
    }
   }
  },
  {
   "cell_type": "code",
   "execution_count": 43,
   "outputs": [
    {
     "name": "stdout",
     "output_type": "stream",
     "text": [
      "Czulosc: 1.0\n",
      "Swoistosc: 1.0\n",
      "Accuracy: 1.0\n",
      "ROC auc: 1.0\n",
      "F1 score: 1.0\n",
      "BA score: 1.0\n"
     ]
    },
    {
     "data": {
      "text/plain": "<Figure size 720x720 with 0 Axes>"
     },
     "metadata": {},
     "output_type": "display_data"
    },
    {
     "data": {
      "text/plain": "<Figure size 432x288 with 2 Axes>",
      "image/png": "[encoded data removed]"
     },
     "metadata": {
      "needs_background": "light"
     },
     "output_type": "display_data"
    },
    {
     "data": {
      "text/plain": "<Figure size 432x288 with 1 Axes>",
      "image/png": "[encoded data removed]"
     },
     "metadata": {
      "needs_background": "light"
     },
     "output_type": "display_data"
    }
   ],
   "source": [
    "plt.figure(figsize=(10, 10))\n",
    "\n",
    "cm_model = confusion_matrix(y_test, y_predicted)\n",
    "tn_model = cm_model[0][0]\n",
    "fn_model = cm_model[0][1]\n",
    "tp_model = cm_model[1][1]\n",
    "fp_model = cm_model[1][0]\n",
    "ConfusionMatrixDisplay(cm_model).plot(cmap='gray')\n",
    "\n",
    "fpr, tpr, roc_auc = roc_curve(y_test, y_predicted)\n",
    "\n",
    "rok_model = RocCurveDisplay(fpr=fpr, tpr=tpr)\n",
    "rok_model.plot()\n",
    "\n",
    "print(\"Czulosc:\", tp_model/(tp_model + fn_model))\n",
    "print(\"Swoistosc:\", tn_model/(tn_model + fp_model))\n",
    "print(\"Accuracy:\", (tp_model + tn_model) / (tp_model + tn_model + fp_model + fn_model))\n",
    "\n",
    "print(\"ROC auc:\", roc_auc_score(y_test, y_predicted))\n",
    "print(\"F1 score:\", f1_score(y_test, y_predicted))\n",
    "print(\"BA score:\", balanced_accuracy_score(y_test, y_predicted))"
   ],
   "metadata": {
    "collapsed": false,
    "pycharm": {
     "name": "#%%\n"
    }
   }
  },
  {
   "cell_type": "code",
   "execution_count": 44,
   "outputs": [],
   "source": [
    "from sklearn.model_selection import GridSearchCV\n",
    "\n",
    "X = data_pha.drop(axis=1, columns=['pha']).to_numpy()\n",
    "y = data_pha['pha'].to_numpy().astype('int')\n",
    "\n",
    "X_train, X_test, y_train, y_test = train_test_split(X, y, train_size=0.8, test_size=0.2, random_state=seed, shuffle=True)"
   ],
   "metadata": {
    "collapsed": false,
    "pycharm": {
     "name": "#%%\n"
    }
   }
  },
  {
   "cell_type": "code",
   "execution_count": 45,
   "outputs": [
    {
     "data": {
      "text/plain": "RandomForestClassifier(criterion='entropy', max_depth=75088)"
     },
     "execution_count": 45,
     "metadata": {},
     "output_type": "execute_result"
    }
   ],
   "source": [
    "model = RandomForestClassifier(criterion='entropy', max_depth=75088, min_samples_leaf=1, min_samples_split=2, n_estimators=100)\n",
    "model.fit(X_train, y_train)"
   ],
   "metadata": {
    "collapsed": false,
    "pycharm": {
     "name": "#%%\n"
    }
   }
  },
  {
   "cell_type": "code",
   "execution_count": 46,
   "outputs": [],
   "source": [
    "y_predicted = model.predict(X_test)"
   ],
   "metadata": {
    "collapsed": false,
    "pycharm": {
     "name": "#%%\n"
    }
   }
  },
  {
   "cell_type": "code",
   "execution_count": 47,
   "outputs": [
    {
     "name": "stdout",
     "output_type": "stream",
     "text": [
      "Czulosc: 0.8659217877094972\n",
      "Swoistosc: 0.9994182415951922\n",
      "Accuracy: 0.9991636524416554\n",
      "ROC auc: 0.8698002656437657\n",
      "F1 score: 0.7979407979407979\n",
      "BA score: 0.8698002656437657\n"
     ]
    },
    {
     "data": {
      "text/plain": "<Figure size 720x720 with 0 Axes>"
     },
     "metadata": {},
     "output_type": "display_data"
    },
    {
     "data": {
      "text/plain": "<Figure size 432x288 with 2 Axes>",
      "image/png": "[encoded data removed]"
     },
     "metadata": {
      "needs_background": "light"
     },
     "output_type": "display_data"
    },
    {
     "data": {
      "text/plain": "<Figure size 432x288 with 1 Axes>",
      "image/png": "[encoded data removed]"
     },
     "metadata": {
      "needs_background": "light"
     },
     "output_type": "display_data"
    }
   ],
   "source": [
    "plt.figure(figsize=(10, 10))\n",
    "\n",
    "cm_model = confusion_matrix(y_test, y_predicted)\n",
    "tn_model = cm_model[0][0]\n",
    "fn_model = cm_model[0][1]\n",
    "tp_model = cm_model[1][1]\n",
    "fp_model = cm_model[1][0]\n",
    "ConfusionMatrixDisplay(cm_model).plot(cmap='gray')\n",
    "\n",
    "fpr, tpr, roc_auc = roc_curve(y_test, y_predicted)\n",
    "\n",
    "rok_model = RocCurveDisplay(fpr=fpr, tpr=tpr)\n",
    "rok_model.plot()\n",
    "\n",
    "print(\"Czulosc:\", tp_model/(tp_model + fn_model))\n",
    "print(\"Swoistosc:\", tn_model/(tn_model + fp_model))\n",
    "print(\"Accuracy:\", (tp_model + tn_model) / (tp_model + tn_model + fp_model + fn_model))\n",
    "\n",
    "print(\"ROC auc:\", roc_auc_score(y_test, y_predicted))\n",
    "print(\"F1 score:\", f1_score(y_test, y_predicted))\n",
    "print(\"BA score:\", balanced_accuracy_score(y_test, y_predicted))"
   ],
   "metadata": {
    "collapsed": false,
    "pycharm": {
     "name": "#%%\n"
    }
   }
  },
  {
   "cell_type": "markdown",
   "source": [
    "# Wnioski\n",
    "\n",
    "Wybrane parametry dla NEO oraz PHA nie byly takie same"
   ],
   "metadata": {
    "collapsed": false,
    "pycharm": {
     "name": "#%% md\n"
    }
   }
  },
  {
   "cell_type": "code",
   "execution_count": 48,
   "outputs": [
    {
     "name": "stderr",
     "output_type": "stream",
     "text": [
      "[NbConvertApp] Converting notebook lab6cz2.ipynb to html\n",
      "[NbConvertApp] Writing 817574 bytes to lab6cz2.html\n"
     ]
    }
   ],
   "source": [
    " ! jupyter nbconvert --to html lab6cz2.ipynb"
   ],
   "metadata": {
    "collapsed": false,
    "pycharm": {
     "name": "#%%\n"
    }
   }
  }
 ],
 "metadata": {
  "kernelspec": {
   "display_name": "Python 3",
   "language": "python",
   "name": "python3"
  },
  "language_info": {
   "codemirror_mode": {
    "name": "ipython",
    "version": 2
   },
   "file_extension": ".py",
   "mimetype": "text/x-python",
   "name": "python",
   "nbconvert_exporter": "python",
   "pygments_lexer": "ipython2",
   "version": "2.7.6"
  }
 },
 "nbformat": 4,
 "nbformat_minor": 0
}