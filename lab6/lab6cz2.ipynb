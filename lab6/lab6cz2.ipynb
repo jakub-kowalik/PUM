{
 "cells": [
  {
   "cell_type": "code",
   "execution_count": 99,
   "metadata": {
    "collapsed": true,
    "pycharm": {
     "name": "#%%\n"
    }
   },
   "outputs": [],
   "source": [
    "import math\n",
    "import random\n",
    "import time\n",
    "\n",
    "import sklearn.metrics\n",
    "from numpy import arange, c_\n",
    "from sklearn.model_selection import train_test_split\n",
    "from sklearn.preprocessing import PolynomialFeatures\n",
    "# from sklearn.tree import DecisionTreeClassifier\n",
    "from sklearn.ensemble import RandomForestClassifier\n",
    "from sklearn import datasets\n",
    "from sklearn.metrics import roc_auc_score, f1_score, balanced_accuracy_score\n",
    "\n",
    "import scipy\n",
    "from scipy import optimize\n",
    "\n",
    "import numpy as np\n",
    "\n",
    "from sklearn.metrics import confusion_matrix, accuracy_score, ConfusionMatrixDisplay, RocCurveDisplay, roc_curve\n",
    "\n",
    "import matplotlib.pyplot as plt\n",
    "\n",
    "import pandas as pd\n",
    "\n",
    "import seaborn as sns\n",
    "\n",
    "from collections import Counter\n",
    "\n",
    "sns.reset_orig()\n",
    "\n",
    "\n",
    "noise = 16\n",
    "samples = 2425\n",
    "seed = 244825\n",
    "classes = 2\n",
    "train_split = 0.8\n",
    "test_split = 0.2\n",
    "repeats = 100\n",
    "\n",
    "np.random.seed(seed)"
   ]
  },
  {
   "cell_type": "code",
   "execution_count": 100,
   "outputs": [
    {
     "name": "stderr",
     "output_type": "stream",
     "text": [
      "C:\\Users\\Jakub\\AppData\\Local\\Temp\\ipykernel_7660\\3154539491.py:1: DtypeWarning: Columns (3,4,5) have mixed types. Specify dtype option on import or set low_memory=False.\n",
      "  data = pd.read_csv('dataset.csv')\n"
     ]
    },
    {
     "name": "stdout",
     "output_type": "stream",
     "text": [
      "rows 958524\n",
      "<class 'pandas.core.frame.DataFrame'>\n",
      "RangeIndex: 958524 entries, 0 to 958523\n",
      "Data columns (total 45 columns):\n",
      " #   Column          Non-Null Count   Dtype  \n",
      "---  ------          --------------   -----  \n",
      " 0   id              958524 non-null  object \n",
      " 1   spkid           958524 non-null  int64  \n",
      " 2   full_name       958524 non-null  object \n",
      " 3   pdes            958524 non-null  object \n",
      " 4   name            22064 non-null   object \n",
      " 5   prefix          18 non-null      object \n",
      " 6   neo             958520 non-null  object \n",
      " 7   pha             938603 non-null  object \n",
      " 8   H               952261 non-null  float64\n",
      " 9   diameter        136209 non-null  float64\n",
      " 10  albedo          135103 non-null  float64\n",
      " 11  diameter_sigma  136081 non-null  float64\n",
      " 12  orbit_id        958524 non-null  object \n",
      " 13  epoch           958524 non-null  float64\n",
      " 14  epoch_mjd       958524 non-null  int64  \n",
      " 15  epoch_cal       958524 non-null  float64\n",
      " 16  equinox         958524 non-null  object \n",
      " 17  e               958524 non-null  float64\n",
      " 18  a               958524 non-null  float64\n",
      " 19  q               958524 non-null  float64\n",
      " 20  i               958524 non-null  float64\n",
      " 21  om              958524 non-null  float64\n",
      " 22  w               958524 non-null  float64\n",
      " 23  ma              958523 non-null  float64\n",
      " 24  ad              958520 non-null  float64\n",
      " 25  n               958524 non-null  float64\n",
      " 26  tp              958524 non-null  float64\n",
      " 27  tp_cal          958524 non-null  float64\n",
      " 28  per             958520 non-null  float64\n",
      " 29  per_y           958523 non-null  float64\n",
      " 30  moid            938603 non-null  float64\n",
      " 31  moid_ld         958397 non-null  float64\n",
      " 32  sigma_e         938602 non-null  float64\n",
      " 33  sigma_a         938602 non-null  float64\n",
      " 34  sigma_q         938602 non-null  float64\n",
      " 35  sigma_i         938602 non-null  float64\n",
      " 36  sigma_om        938602 non-null  float64\n",
      " 37  sigma_w         938602 non-null  float64\n",
      " 38  sigma_ma        938602 non-null  float64\n",
      " 39  sigma_ad        938598 non-null  float64\n",
      " 40  sigma_n         938602 non-null  float64\n",
      " 41  sigma_tp        938602 non-null  float64\n",
      " 42  sigma_per       938598 non-null  float64\n",
      " 43  class           958524 non-null  object \n",
      " 44  rms             958522 non-null  float64\n",
      "dtypes: float64(33), int64(2), object(10)\n",
      "memory usage: 329.1+ MB\n"
     ]
    }
   ],
   "source": [
    "data = pd.read_csv('dataset.csv')\n",
    "print('rows', len(data))\n",
    "data.info()"
   ],
   "metadata": {
    "collapsed": false,
    "pycharm": {
     "name": "#%%\n"
    }
   }
  },
  {
   "cell_type": "code",
   "execution_count": 101,
   "outputs": [
    {
     "data": {
      "text/plain": "id                 0.000000\nspkid              0.000000\nfull_name          0.000000\npdes               0.000000\nname              97.698128\nprefix            99.998122\nneo                0.000417\npha                2.078300\nH                  0.653400\ndiameter          85.789714\nalbedo            85.905100\ndiameter_sigma    85.803068\norbit_id           0.000000\nepoch              0.000000\nepoch_mjd          0.000000\nepoch_cal          0.000000\nequinox            0.000000\ne                  0.000000\na                  0.000000\nq                  0.000000\ni                  0.000000\nom                 0.000000\nw                  0.000000\nma                 0.000104\nad                 0.000417\nn                  0.000000\ntp                 0.000000\ntp_cal             0.000000\nper                0.000417\nper_y              0.000104\nmoid               2.078300\nmoid_ld            0.013250\nsigma_e            2.078404\nsigma_a            2.078404\nsigma_q            2.078404\nsigma_i            2.078404\nsigma_om           2.078404\nsigma_w            2.078404\nsigma_ma           2.078404\nsigma_ad           2.078821\nsigma_n            2.078404\nsigma_tp           2.078404\nsigma_per          2.078821\nclass              0.000000\nrms                0.000209\ndtype: float64"
     },
     "execution_count": 101,
     "metadata": {},
     "output_type": "execute_result"
    }
   ],
   "source": [
    "data.isna().sum() / len(data) * 100"
   ],
   "metadata": {
    "collapsed": false,
    "pycharm": {
     "name": "#%%\n"
    }
   }
  },
  {
   "cell_type": "code",
   "execution_count": 102,
   "outputs": [
    {
     "name": "stderr",
     "output_type": "stream",
     "text": [
      "C:\\Users\\Jakub\\AppData\\Local\\Temp\\ipykernel_7660\\26759385.py:4: FutureWarning: Dropping of nuisance columns in DataFrame reductions (with 'numeric_only=None') is deprecated; in a future version this will raise TypeError.  Select only valid columns before calling the reduction.\n",
      "  data.max()\n"
     ]
    },
    {
     "data": {
      "text/plain": "neo                          Y\nH                         33.2\ne                     0.999851\na                 33488.895955\nq                    80.398819\ni                   175.082901\nom                  359.999793\nw                   359.999646\nma                  491.618014\nad                66972.796064\nn                     2.381082\ntp               2546362.29315\ntp_cal          22590808.79315\nper          2238461721.151791\nper_y           6128574.185221\nmoid                   79.4766\nmoid_ld           30929.908422\nsigma_e                39425.0\nsigma_a              3241200.0\nsigma_q              1015000.0\nsigma_i                55330.0\nsigma_om             1199100.0\nsigma_w         884510000000.0\nsigma_ma        884510000000.0\nsigma_ad             5509700.0\nsigma_n                 7698.8\nsigma_tp     285310000000000.0\nsigma_per        19107000000.0\nclass                      TNO\nrms                     2686.6\ndtype: object"
     },
     "execution_count": 102,
     "metadata": {},
     "output_type": "execute_result"
    }
   ],
   "source": [
    "data = data.drop(columns=['id', 'spkid', 'full_name', 'pdes', 'name', 'prefix', 'orbit_id', 'equinox', 'epoch', 'epoch_cal', 'epoch_mjd', 'diameter', 'diameter_sigma', 'albedo'])\n",
    "data = data[data['neo'].notna()]\n",
    "len(data)\n",
    "data.max()"
   ],
   "metadata": {
    "collapsed": false,
    "pycharm": {
     "name": "#%%\n"
    }
   }
  },
  {
   "cell_type": "code",
   "execution_count": 103,
   "outputs": [],
   "source": [
    "def winsorize(df, exclude):\n",
    "    result = df.copy()\n",
    "    for feature_name in df.columns:\n",
    "        if feature_name not in exclude:\n",
    "            if df[feature_name].dtype == 'float64' or df[feature_name].dtype == 'int32' or df[feature_name].dtype == 'int64':\n",
    "                q1 = df[feature_name].quantile(0.25)\n",
    "                q3 = df[feature_name].quantile(0.75)\n",
    "\n",
    "                iqr = q3 - q1\n",
    "\n",
    "                lower_bound = q1 - (1.5 * iqr)\n",
    "                upper_bound = q3 + (1.5 * iqr)\n",
    "\n",
    "                df.loc[df[feature_name] < lower_bound, feature_name] = lower_bound\n",
    "                df.loc[df[feature_name] > upper_bound, feature_name] = upper_bound\n",
    "    return df\n",
    "\n",
    "\n",
    "\n",
    "def normalize(df, exclude):\n",
    "    result = df.copy()\n",
    "    for feature_name in df.columns:\n",
    "        if feature_name not in exclude:\n",
    "            if df[feature_name].dtype == 'float64' or df[feature_name].dtype == 'int32':\n",
    "                max_value = df[feature_name].max()\n",
    "                min_value = df[feature_name].min()\n",
    "                result[feature_name] = (df[feature_name] - min_value) / (max_value - min_value)\n",
    "    return result\n"
   ],
   "metadata": {
    "collapsed": false,
    "pycharm": {
     "name": "#%%\n"
    }
   }
  },
  {
   "cell_type": "code",
   "execution_count": 104,
   "outputs": [
    {
     "name": "stderr",
     "output_type": "stream",
     "text": [
      "C:\\Users\\Jakub\\AppData\\Local\\Temp\\ipykernel_7660\\988437687.py:2: FutureWarning: Dropping of nuisance columns in DataFrame reductions (with 'numeric_only=None') is deprecated; in a future version this will raise TypeError.  Select only valid columns before calling the reduction.\n",
      "  data.max()\n"
     ]
    },
    {
     "data": {
      "text/plain": "neo                        Y\nH                     20.135\ne                   0.363335\na                   3.923076\nq                   3.488677\ni                  24.770651\nom                359.999793\nw                 359.999646\nma                491.618014\nad                  4.239579\nn                    0.38354\ntp            2460562.732648\ntp_cal       20240840.232648\nper               2727.80534\nper_y               7.468324\nmoid                2.513872\nmoid_ld           980.219602\nsigma_e             0.000001\nsigma_a                  0.0\nsigma_q             0.000001\nsigma_i             0.000031\nsigma_om            0.000348\nsigma_w             0.000692\nsigma_ma            0.000391\nsigma_ad                 0.0\nsigma_n                  0.0\nsigma_tp            0.001868\nsigma_per           0.000217\nclass                    TNO\nrms                 0.757765\ndtype: object"
     },
     "execution_count": 104,
     "metadata": {},
     "output_type": "execute_result"
    }
   ],
   "source": [
    "data = winsorize(data, ['neo', 'pha', 'class'])\n",
    "data.max()"
   ],
   "metadata": {
    "collapsed": false,
    "pycharm": {
     "name": "#%%\n"
    }
   }
  },
  {
   "cell_type": "code",
   "execution_count": 105,
   "outputs": [
    {
     "name": "stderr",
     "output_type": "stream",
     "text": [
      "C:\\Users\\Jakub\\AppData\\Local\\Temp\\ipykernel_7660\\2695581229.py:2: FutureWarning: Dropping of nuisance columns in DataFrame reductions (with 'numeric_only=None') is deprecated; in a future version this will raise TypeError.  Select only valid columns before calling the reduction.\n",
      "  data.max()\n"
     ]
    },
    {
     "data": {
      "text/plain": "neo            Y\nH            1.0\ne            1.0\na            1.0\nq            1.0\ni            1.0\nom           1.0\nw            1.0\nma           1.0\nad           1.0\nn            1.0\ntp           1.0\ntp_cal       1.0\nper          1.0\nper_y        1.0\nmoid         1.0\nmoid_ld      1.0\nsigma_e      1.0\nsigma_a      1.0\nsigma_q      1.0\nsigma_i      1.0\nsigma_om     1.0\nsigma_w      1.0\nsigma_ma     1.0\nsigma_ad     1.0\nsigma_n      1.0\nsigma_tp     1.0\nsigma_per    1.0\nclass        TNO\nrms          1.0\ndtype: object"
     },
     "execution_count": 105,
     "metadata": {},
     "output_type": "execute_result"
    }
   ],
   "source": [
    "data = normalize(data, ['neo', 'pha', 'class'])\n",
    "data.max()"
   ],
   "metadata": {
    "collapsed": false,
    "pycharm": {
     "name": "#%%\n"
    }
   }
  },
  {
   "cell_type": "code",
   "execution_count": 106,
   "outputs": [
    {
     "data": {
      "text/plain": "neo          0.000000\npha          2.078308\nH            0.653403\ne            0.000000\na            0.000000\nq            0.000000\ni            0.000000\nom           0.000000\nw            0.000000\nma           0.000104\nad           0.000000\nn            0.000000\ntp           0.000000\ntp_cal       0.000000\nper          0.000000\nper_y        0.000000\nmoid         2.078308\nmoid_ld      0.013250\nsigma_e      2.078413\nsigma_a      2.078413\nsigma_q      2.078413\nsigma_i      2.078413\nsigma_om     2.078413\nsigma_w      2.078413\nsigma_ma     2.078413\nsigma_ad     2.078413\nsigma_n      2.078413\nsigma_tp     2.078413\nsigma_per    2.078413\nclass        0.000000\nrms          0.000209\ndtype: float64"
     },
     "execution_count": 106,
     "metadata": {},
     "output_type": "execute_result"
    }
   ],
   "source": [
    "data.isna().sum() / len(data) * 100"
   ],
   "metadata": {
    "collapsed": false,
    "pycharm": {
     "name": "#%%\n"
    }
   }
  },
  {
   "cell_type": "code",
   "execution_count": 107,
   "outputs": [],
   "source": [
    "data_neo = data.drop(columns=['pha'])\n",
    "data_pha = data[data['pha'].notna()].drop(columns=['neo'])"
   ],
   "metadata": {
    "collapsed": false,
    "pycharm": {
     "name": "#%%\n"
    }
   }
  },
  {
   "cell_type": "code",
   "execution_count": 108,
   "outputs": [
    {
     "name": "stderr",
     "output_type": "stream",
     "text": [
      "C:\\Users\\Jakub\\AppData\\Local\\Temp\\ipykernel_7660\\470019082.py:1: FutureWarning: Dropping of nuisance columns in DataFrame reductions (with 'numeric_only=None') is deprecated; in a future version this will raise TypeError.  Select only valid columns before calling the reduction.\n",
      "  data_neo = data_neo.fillna(data_neo.mean())\n"
     ]
    }
   ],
   "source": [
    "data_neo = data_neo.fillna(data_neo.mean())"
   ],
   "metadata": {
    "collapsed": false,
    "pycharm": {
     "name": "#%%\n"
    }
   }
  },
  {
   "cell_type": "code",
   "execution_count": 109,
   "outputs": [
    {
     "data": {
      "text/plain": "neo          0\nH            0\ne            0\na            0\nq            0\ni            0\nom           0\nw            0\nma           0\nad           0\nn            0\ntp           0\ntp_cal       0\nper          0\nper_y        0\nmoid         0\nmoid_ld      0\nsigma_e      0\nsigma_a      0\nsigma_q      0\nsigma_i      0\nsigma_om     0\nsigma_w      0\nsigma_ma     0\nsigma_ad     0\nsigma_n      0\nsigma_tp     0\nsigma_per    0\nclass        0\nrms          0\ndtype: int64"
     },
     "execution_count": 109,
     "metadata": {},
     "output_type": "execute_result"
    }
   ],
   "source": [
    "data_neo.isna().sum()"
   ],
   "metadata": {
    "collapsed": false,
    "pycharm": {
     "name": "#%%\n"
    }
   }
  },
  {
   "cell_type": "code",
   "execution_count": 110,
   "outputs": [
    {
     "data": {
      "text/plain": "   index neo    H         e         a         q         i        om         w  \\\n0      0   0  0.0  0.209198  0.530240  0.616915  0.427507  0.223071  0.204438   \n1      1   0  0.0  0.632949  0.532143  0.442775  1.000000  0.480625  0.861674   \n2      2   0  0.0  0.707162  0.489171  0.379657  0.524304  0.471810  0.689073   \n3      3   0  0.0  0.244187  0.364245  0.449356  0.288093  0.288363  0.418691   \n4      4   0  0.0  0.525447  0.450803  0.420813  0.216440  0.393253  0.996247   \n\n         ma  ...   sigma_i  sigma_om   sigma_w  sigma_ma  sigma_ad   sigma_n  \\\n0  0.258627  ...  0.000000  0.000000  0.000000  0.000000  0.000000  0.000000   \n1  0.379616  ...  0.113084  0.017843  0.013092  0.022631  0.018749  0.019384   \n2  0.344645  ...  0.105045  0.047646  0.025506  0.020717  0.016486  0.018381   \n3  0.291718  ...  0.006934  0.000938  0.000163  0.003066  0.006202  0.010860   \n4  0.152094  ...  0.089304  0.082992  0.043017  0.021211  0.017869  0.023014   \n\n   sigma_tp  sigma_per  class       rms  \n0  0.000000   0.000000    MBA  0.153314  \n1  0.021812   0.016883    MBA  0.000000  \n2  0.018869   0.014245    MBA  0.000000  \n3  0.002176   0.005819    MBA  0.066730  \n4  0.018577   0.016008    MBA  0.385090  \n\n[5 rows x 31 columns]",
      "text/html": "<div>\n<style scoped>\n    .dataframe tbody tr th:only-of-type {\n        vertical-align: middle;\n    }\n\n    .dataframe tbody tr th {\n        vertical-align: top;\n    }\n\n    .dataframe thead th {\n        text-align: right;\n    }\n</style>\n<table border=\"1\" class=\"dataframe\">\n  <thead>\n    <tr style=\"text-align: right;\">\n      <th></th>\n      <th>index</th>\n      <th>neo</th>\n      <th>H</th>\n      <th>e</th>\n      <th>a</th>\n      <th>q</th>\n      <th>i</th>\n      <th>om</th>\n      <th>w</th>\n      <th>ma</th>\n      <th>...</th>\n      <th>sigma_i</th>\n      <th>sigma_om</th>\n      <th>sigma_w</th>\n      <th>sigma_ma</th>\n      <th>sigma_ad</th>\n      <th>sigma_n</th>\n      <th>sigma_tp</th>\n      <th>sigma_per</th>\n      <th>class</th>\n      <th>rms</th>\n    </tr>\n  </thead>\n  <tbody>\n    <tr>\n      <th>0</th>\n      <td>0</td>\n      <td>0</td>\n      <td>0.0</td>\n      <td>0.209198</td>\n      <td>0.530240</td>\n      <td>0.616915</td>\n      <td>0.427507</td>\n      <td>0.223071</td>\n      <td>0.204438</td>\n      <td>0.258627</td>\n      <td>...</td>\n      <td>0.000000</td>\n      <td>0.000000</td>\n      <td>0.000000</td>\n      <td>0.000000</td>\n      <td>0.000000</td>\n      <td>0.000000</td>\n      <td>0.000000</td>\n      <td>0.000000</td>\n      <td>MBA</td>\n      <td>0.153314</td>\n    </tr>\n    <tr>\n      <th>1</th>\n      <td>1</td>\n      <td>0</td>\n      <td>0.0</td>\n      <td>0.632949</td>\n      <td>0.532143</td>\n      <td>0.442775</td>\n      <td>1.000000</td>\n      <td>0.480625</td>\n      <td>0.861674</td>\n      <td>0.379616</td>\n      <td>...</td>\n      <td>0.113084</td>\n      <td>0.017843</td>\n      <td>0.013092</td>\n      <td>0.022631</td>\n      <td>0.018749</td>\n      <td>0.019384</td>\n      <td>0.021812</td>\n      <td>0.016883</td>\n      <td>MBA</td>\n      <td>0.000000</td>\n    </tr>\n    <tr>\n      <th>2</th>\n      <td>2</td>\n      <td>0</td>\n      <td>0.0</td>\n      <td>0.707162</td>\n      <td>0.489171</td>\n      <td>0.379657</td>\n      <td>0.524304</td>\n      <td>0.471810</td>\n      <td>0.689073</td>\n      <td>0.344645</td>\n      <td>...</td>\n      <td>0.105045</td>\n      <td>0.047646</td>\n      <td>0.025506</td>\n      <td>0.020717</td>\n      <td>0.016486</td>\n      <td>0.018381</td>\n      <td>0.018869</td>\n      <td>0.014245</td>\n      <td>MBA</td>\n      <td>0.000000</td>\n    </tr>\n    <tr>\n      <th>3</th>\n      <td>3</td>\n      <td>0</td>\n      <td>0.0</td>\n      <td>0.244187</td>\n      <td>0.364245</td>\n      <td>0.449356</td>\n      <td>0.288093</td>\n      <td>0.288363</td>\n      <td>0.418691</td>\n      <td>0.291718</td>\n      <td>...</td>\n      <td>0.006934</td>\n      <td>0.000938</td>\n      <td>0.000163</td>\n      <td>0.003066</td>\n      <td>0.006202</td>\n      <td>0.010860</td>\n      <td>0.002176</td>\n      <td>0.005819</td>\n      <td>MBA</td>\n      <td>0.066730</td>\n    </tr>\n    <tr>\n      <th>4</th>\n      <td>4</td>\n      <td>0</td>\n      <td>0.0</td>\n      <td>0.525447</td>\n      <td>0.450803</td>\n      <td>0.420813</td>\n      <td>0.216440</td>\n      <td>0.393253</td>\n      <td>0.996247</td>\n      <td>0.152094</td>\n      <td>...</td>\n      <td>0.089304</td>\n      <td>0.082992</td>\n      <td>0.043017</td>\n      <td>0.021211</td>\n      <td>0.017869</td>\n      <td>0.023014</td>\n      <td>0.018577</td>\n      <td>0.016008</td>\n      <td>MBA</td>\n      <td>0.385090</td>\n    </tr>\n  </tbody>\n</table>\n<p>5 rows × 31 columns</p>\n</div>"
     },
     "execution_count": 110,
     "metadata": {},
     "output_type": "execute_result"
    }
   ],
   "source": [
    "data_neo.loc[ data_neo['neo'] == 'N', 'neo'] = 0\n",
    "data_neo.loc[ data_neo['neo'] == 'Y', 'neo'] = 1\n",
    "\n",
    "data_neo = data_neo.reset_index(drop=True)\n",
    "data_neo.head()"
   ],
   "metadata": {
    "collapsed": false,
    "pycharm": {
     "name": "#%%\n"
    }
   }
  },
  {
   "cell_type": "code",
   "execution_count": 111,
   "outputs": [
    {
     "data": {
      "text/plain": "        class_AMO  class_APO  class_AST  class_ATE  class_CEN  class_IEO  \\\n0             0.0        0.0        0.0        0.0        0.0        0.0   \n1             0.0        0.0        0.0        0.0        0.0        0.0   \n2             0.0        0.0        0.0        0.0        0.0        0.0   \n3             0.0        0.0        0.0        0.0        0.0        0.0   \n4             0.0        0.0        0.0        0.0        0.0        0.0   \n...           ...        ...        ...        ...        ...        ...   \n958515        0.0        0.0        0.0        0.0        0.0        0.0   \n958516        0.0        0.0        0.0        0.0        0.0        0.0   \n958517        0.0        1.0        0.0        0.0        0.0        0.0   \n958518        0.0        0.0        0.0        0.0        0.0        0.0   \n958519        0.0        0.0        0.0        0.0        0.0        0.0   \n\n        class_IMB  class_MBA  class_MCA  class_OMB  class_TJN  class_TNO  \n0             0.0        1.0        0.0        0.0        0.0        0.0  \n1             0.0        1.0        0.0        0.0        0.0        0.0  \n2             0.0        1.0        0.0        0.0        0.0        0.0  \n3             0.0        1.0        0.0        0.0        0.0        0.0  \n4             0.0        1.0        0.0        0.0        0.0        0.0  \n...           ...        ...        ...        ...        ...        ...  \n958515        0.0        1.0        0.0        0.0        0.0        0.0  \n958516        0.0        1.0        0.0        0.0        0.0        0.0  \n958517        0.0        0.0        0.0        0.0        0.0        0.0  \n958518        0.0        1.0        0.0        0.0        0.0        0.0  \n958519        0.0        1.0        0.0        0.0        0.0        0.0  \n\n[958520 rows x 12 columns]",
      "text/html": "<div>\n<style scoped>\n    .dataframe tbody tr th:only-of-type {\n        vertical-align: middle;\n    }\n\n    .dataframe tbody tr th {\n        vertical-align: top;\n    }\n\n    .dataframe thead th {\n        text-align: right;\n    }\n</style>\n<table border=\"1\" class=\"dataframe\">\n  <thead>\n    <tr style=\"text-align: right;\">\n      <th></th>\n      <th>class_AMO</th>\n      <th>class_APO</th>\n      <th>class_AST</th>\n      <th>class_ATE</th>\n      <th>class_CEN</th>\n      <th>class_IEO</th>\n      <th>class_IMB</th>\n      <th>class_MBA</th>\n      <th>class_MCA</th>\n      <th>class_OMB</th>\n      <th>class_TJN</th>\n      <th>class_TNO</th>\n    </tr>\n  </thead>\n  <tbody>\n    <tr>\n      <th>0</th>\n      <td>0.0</td>\n      <td>0.0</td>\n      <td>0.0</td>\n      <td>0.0</td>\n      <td>0.0</td>\n      <td>0.0</td>\n      <td>0.0</td>\n      <td>1.0</td>\n      <td>0.0</td>\n      <td>0.0</td>\n      <td>0.0</td>\n      <td>0.0</td>\n    </tr>\n    <tr>\n      <th>1</th>\n      <td>0.0</td>\n      <td>0.0</td>\n      <td>0.0</td>\n      <td>0.0</td>\n      <td>0.0</td>\n      <td>0.0</td>\n      <td>0.0</td>\n      <td>1.0</td>\n      <td>0.0</td>\n      <td>0.0</td>\n      <td>0.0</td>\n      <td>0.0</td>\n    </tr>\n    <tr>\n      <th>2</th>\n      <td>0.0</td>\n      <td>0.0</td>\n      <td>0.0</td>\n      <td>0.0</td>\n      <td>0.0</td>\n      <td>0.0</td>\n      <td>0.0</td>\n      <td>1.0</td>\n      <td>0.0</td>\n      <td>0.0</td>\n      <td>0.0</td>\n      <td>0.0</td>\n    </tr>\n    <tr>\n      <th>3</th>\n      <td>0.0</td>\n      <td>0.0</td>\n      <td>0.0</td>\n      <td>0.0</td>\n      <td>0.0</td>\n      <td>0.0</td>\n      <td>0.0</td>\n      <td>1.0</td>\n      <td>0.0</td>\n      <td>0.0</td>\n      <td>0.0</td>\n      <td>0.0</td>\n    </tr>\n    <tr>\n      <th>4</th>\n      <td>0.0</td>\n      <td>0.0</td>\n      <td>0.0</td>\n      <td>0.0</td>\n      <td>0.0</td>\n      <td>0.0</td>\n      <td>0.0</td>\n      <td>1.0</td>\n      <td>0.0</td>\n      <td>0.0</td>\n      <td>0.0</td>\n      <td>0.0</td>\n    </tr>\n    <tr>\n      <th>...</th>\n      <td>...</td>\n      <td>...</td>\n      <td>...</td>\n      <td>...</td>\n      <td>...</td>\n      <td>...</td>\n      <td>...</td>\n      <td>...</td>\n      <td>...</td>\n      <td>...</td>\n      <td>...</td>\n      <td>...</td>\n    </tr>\n    <tr>\n      <th>958515</th>\n      <td>0.0</td>\n      <td>0.0</td>\n      <td>0.0</td>\n      <td>0.0</td>\n      <td>0.0</td>\n      <td>0.0</td>\n      <td>0.0</td>\n      <td>1.0</td>\n      <td>0.0</td>\n      <td>0.0</td>\n      <td>0.0</td>\n      <td>0.0</td>\n    </tr>\n    <tr>\n      <th>958516</th>\n      <td>0.0</td>\n      <td>0.0</td>\n      <td>0.0</td>\n      <td>0.0</td>\n      <td>0.0</td>\n      <td>0.0</td>\n      <td>0.0</td>\n      <td>1.0</td>\n      <td>0.0</td>\n      <td>0.0</td>\n      <td>0.0</td>\n      <td>0.0</td>\n    </tr>\n    <tr>\n      <th>958517</th>\n      <td>0.0</td>\n      <td>1.0</td>\n      <td>0.0</td>\n      <td>0.0</td>\n      <td>0.0</td>\n      <td>0.0</td>\n      <td>0.0</td>\n      <td>0.0</td>\n      <td>0.0</td>\n      <td>0.0</td>\n      <td>0.0</td>\n      <td>0.0</td>\n    </tr>\n    <tr>\n      <th>958518</th>\n      <td>0.0</td>\n      <td>0.0</td>\n      <td>0.0</td>\n      <td>0.0</td>\n      <td>0.0</td>\n      <td>0.0</td>\n      <td>0.0</td>\n      <td>1.0</td>\n      <td>0.0</td>\n      <td>0.0</td>\n      <td>0.0</td>\n      <td>0.0</td>\n    </tr>\n    <tr>\n      <th>958519</th>\n      <td>0.0</td>\n      <td>0.0</td>\n      <td>0.0</td>\n      <td>0.0</td>\n      <td>0.0</td>\n      <td>0.0</td>\n      <td>0.0</td>\n      <td>1.0</td>\n      <td>0.0</td>\n      <td>0.0</td>\n      <td>0.0</td>\n      <td>0.0</td>\n    </tr>\n  </tbody>\n</table>\n<p>958520 rows × 12 columns</p>\n</div>"
     },
     "execution_count": 111,
     "metadata": {},
     "output_type": "execute_result"
    }
   ],
   "source": [
    "from sklearn.preprocessing import OneHotEncoder\n",
    "\n",
    "enc = OneHotEncoder(sparse=False)\n",
    "# classes = data_neo['class'].values\n",
    "# classes = classes.reshape(-1, 1)\n",
    "\n",
    "encoded_class = pd.DataFrame(enc.fit_transform(data_neo[['class']]))\n",
    "encoded_class.columns = enc.get_feature_names_out()\n",
    "encoded_class"
   ],
   "metadata": {
    "collapsed": false,
    "pycharm": {
     "name": "#%%\n"
    }
   }
  },
  {
   "cell_type": "code",
   "execution_count": 112,
   "outputs": [
    {
     "data": {
      "text/plain": "         index neo         H         e         a         q         i  \\\n0            0   0  0.000000  0.209198  0.530240  0.616915  0.427507   \n1            1   0  0.000000  0.632949  0.532143  0.442775  1.000000   \n2            2   0  0.000000  0.707162  0.489171  0.379657  0.524304   \n3            3   0  0.000000  0.244187  0.364245  0.449356  0.288093   \n4            4   0  0.000000  0.525447  0.450803  0.420813  0.216440   \n...        ...  ..       ...       ...       ...       ...       ...   \n958515  958519   0  0.535316  0.511701  0.331450  0.327796  0.241356   \n958516  958520   0  0.746747  0.778675  0.353453  0.252625  0.326074   \n958517  958521   1  1.000000  1.000000  0.549775  0.000000  0.188650   \n958518  958522   0  0.680297  0.556106  0.369015  0.342968  0.029267   \n958519  958523   0  0.678594  0.711047  0.323122  0.253496  0.389865   \n\n              om         w        ma  ...  class_AST  class_ATE  class_CEN  \\\n0       0.223071  0.204438  0.258627  ...        0.0        0.0        0.0   \n1       0.480625  0.861674  0.379616  ...        0.0        0.0        0.0   \n2       0.471810  0.689073  0.344645  ...        0.0        0.0        0.0   \n3       0.288363  0.418691  0.291718  ...        0.0        0.0        0.0   \n4       0.393253  0.996247  0.152094  ...        0.0        0.0        0.0   \n...          ...       ...       ...  ...        ...        ...        ...   \n958515  0.539528  0.542897  0.732333  ...        0.0        0.0        0.0   \n958516  0.986801  0.014489  0.585677  ...        0.0        0.0        0.0   \n958517  0.508286  0.652486  0.550528  ...        0.0        0.0        0.0   \n958518  0.490275  0.550074  0.756124  ...        0.0        0.0        0.0   \n958519  0.568090  0.412492  0.147573  ...        0.0        0.0        0.0   \n\n        class_IEO  class_IMB  class_MBA  class_MCA  class_OMB  class_TJN  \\\n0             0.0        0.0        1.0        0.0        0.0        0.0   \n1             0.0        0.0        1.0        0.0        0.0        0.0   \n2             0.0        0.0        1.0        0.0        0.0        0.0   \n3             0.0        0.0        1.0        0.0        0.0        0.0   \n4             0.0        0.0        1.0        0.0        0.0        0.0   \n...           ...        ...        ...        ...        ...        ...   \n958515        0.0        0.0        1.0        0.0        0.0        0.0   \n958516        0.0        0.0        1.0        0.0        0.0        0.0   \n958517        0.0        0.0        0.0        0.0        0.0        0.0   \n958518        0.0        0.0        1.0        0.0        0.0        0.0   \n958519        0.0        0.0        1.0        0.0        0.0        0.0   \n\n        class_TNO  \n0             0.0  \n1             0.0  \n2             0.0  \n3             0.0  \n4             0.0  \n...           ...  \n958515        0.0  \n958516        0.0  \n958517        0.0  \n958518        0.0  \n958519        0.0  \n\n[958520 rows x 42 columns]",
      "text/html": "<div>\n<style scoped>\n    .dataframe tbody tr th:only-of-type {\n        vertical-align: middle;\n    }\n\n    .dataframe tbody tr th {\n        vertical-align: top;\n    }\n\n    .dataframe thead th {\n        text-align: right;\n    }\n</style>\n<table border=\"1\" class=\"dataframe\">\n  <thead>\n    <tr style=\"text-align: right;\">\n      <th></th>\n      <th>index</th>\n      <th>neo</th>\n      <th>H</th>\n      <th>e</th>\n      <th>a</th>\n      <th>q</th>\n      <th>i</th>\n      <th>om</th>\n      <th>w</th>\n      <th>ma</th>\n      <th>...</th>\n      <th>class_AST</th>\n      <th>class_ATE</th>\n      <th>class_CEN</th>\n      <th>class_IEO</th>\n      <th>class_IMB</th>\n      <th>class_MBA</th>\n      <th>class_MCA</th>\n      <th>class_OMB</th>\n      <th>class_TJN</th>\n      <th>class_TNO</th>\n    </tr>\n  </thead>\n  <tbody>\n    <tr>\n      <th>0</th>\n      <td>0</td>\n      <td>0</td>\n      <td>0.000000</td>\n      <td>0.209198</td>\n      <td>0.530240</td>\n      <td>0.616915</td>\n      <td>0.427507</td>\n      <td>0.223071</td>\n      <td>0.204438</td>\n      <td>0.258627</td>\n      <td>...</td>\n      <td>0.0</td>\n      <td>0.0</td>\n      <td>0.0</td>\n      <td>0.0</td>\n      <td>0.0</td>\n      <td>1.0</td>\n      <td>0.0</td>\n      <td>0.0</td>\n      <td>0.0</td>\n      <td>0.0</td>\n    </tr>\n    <tr>\n      <th>1</th>\n      <td>1</td>\n      <td>0</td>\n      <td>0.000000</td>\n      <td>0.632949</td>\n      <td>0.532143</td>\n      <td>0.442775</td>\n      <td>1.000000</td>\n      <td>0.480625</td>\n      <td>0.861674</td>\n      <td>0.379616</td>\n      <td>...</td>\n      <td>0.0</td>\n      <td>0.0</td>\n      <td>0.0</td>\n      <td>0.0</td>\n      <td>0.0</td>\n      <td>1.0</td>\n      <td>0.0</td>\n      <td>0.0</td>\n      <td>0.0</td>\n      <td>0.0</td>\n    </tr>\n    <tr>\n      <th>2</th>\n      <td>2</td>\n      <td>0</td>\n      <td>0.000000</td>\n      <td>0.707162</td>\n      <td>0.489171</td>\n      <td>0.379657</td>\n      <td>0.524304</td>\n      <td>0.471810</td>\n      <td>0.689073</td>\n      <td>0.344645</td>\n      <td>...</td>\n      <td>0.0</td>\n      <td>0.0</td>\n      <td>0.0</td>\n      <td>0.0</td>\n      <td>0.0</td>\n      <td>1.0</td>\n      <td>0.0</td>\n      <td>0.0</td>\n      <td>0.0</td>\n      <td>0.0</td>\n    </tr>\n    <tr>\n      <th>3</th>\n      <td>3</td>\n      <td>0</td>\n      <td>0.000000</td>\n      <td>0.244187</td>\n      <td>0.364245</td>\n      <td>0.449356</td>\n      <td>0.288093</td>\n      <td>0.288363</td>\n      <td>0.418691</td>\n      <td>0.291718</td>\n      <td>...</td>\n      <td>0.0</td>\n      <td>0.0</td>\n      <td>0.0</td>\n      <td>0.0</td>\n      <td>0.0</td>\n      <td>1.0</td>\n      <td>0.0</td>\n      <td>0.0</td>\n      <td>0.0</td>\n      <td>0.0</td>\n    </tr>\n    <tr>\n      <th>4</th>\n      <td>4</td>\n      <td>0</td>\n      <td>0.000000</td>\n      <td>0.525447</td>\n      <td>0.450803</td>\n      <td>0.420813</td>\n      <td>0.216440</td>\n      <td>0.393253</td>\n      <td>0.996247</td>\n      <td>0.152094</td>\n      <td>...</td>\n      <td>0.0</td>\n      <td>0.0</td>\n      <td>0.0</td>\n      <td>0.0</td>\n      <td>0.0</td>\n      <td>1.0</td>\n      <td>0.0</td>\n      <td>0.0</td>\n      <td>0.0</td>\n      <td>0.0</td>\n    </tr>\n    <tr>\n      <th>...</th>\n      <td>...</td>\n      <td>...</td>\n      <td>...</td>\n      <td>...</td>\n      <td>...</td>\n      <td>...</td>\n      <td>...</td>\n      <td>...</td>\n      <td>...</td>\n      <td>...</td>\n      <td>...</td>\n      <td>...</td>\n      <td>...</td>\n      <td>...</td>\n      <td>...</td>\n      <td>...</td>\n      <td>...</td>\n      <td>...</td>\n      <td>...</td>\n      <td>...</td>\n      <td>...</td>\n    </tr>\n    <tr>\n      <th>958515</th>\n      <td>958519</td>\n      <td>0</td>\n      <td>0.535316</td>\n      <td>0.511701</td>\n      <td>0.331450</td>\n      <td>0.327796</td>\n      <td>0.241356</td>\n      <td>0.539528</td>\n      <td>0.542897</td>\n      <td>0.732333</td>\n      <td>...</td>\n      <td>0.0</td>\n      <td>0.0</td>\n      <td>0.0</td>\n      <td>0.0</td>\n      <td>0.0</td>\n      <td>1.0</td>\n      <td>0.0</td>\n      <td>0.0</td>\n      <td>0.0</td>\n      <td>0.0</td>\n    </tr>\n    <tr>\n      <th>958516</th>\n      <td>958520</td>\n      <td>0</td>\n      <td>0.746747</td>\n      <td>0.778675</td>\n      <td>0.353453</td>\n      <td>0.252625</td>\n      <td>0.326074</td>\n      <td>0.986801</td>\n      <td>0.014489</td>\n      <td>0.585677</td>\n      <td>...</td>\n      <td>0.0</td>\n      <td>0.0</td>\n      <td>0.0</td>\n      <td>0.0</td>\n      <td>0.0</td>\n      <td>1.0</td>\n      <td>0.0</td>\n      <td>0.0</td>\n      <td>0.0</td>\n      <td>0.0</td>\n    </tr>\n    <tr>\n      <th>958517</th>\n      <td>958521</td>\n      <td>1</td>\n      <td>1.000000</td>\n      <td>1.000000</td>\n      <td>0.549775</td>\n      <td>0.000000</td>\n      <td>0.188650</td>\n      <td>0.508286</td>\n      <td>0.652486</td>\n      <td>0.550528</td>\n      <td>...</td>\n      <td>0.0</td>\n      <td>0.0</td>\n      <td>0.0</td>\n      <td>0.0</td>\n      <td>0.0</td>\n      <td>0.0</td>\n      <td>0.0</td>\n      <td>0.0</td>\n      <td>0.0</td>\n      <td>0.0</td>\n    </tr>\n    <tr>\n      <th>958518</th>\n      <td>958522</td>\n      <td>0</td>\n      <td>0.680297</td>\n      <td>0.556106</td>\n      <td>0.369015</td>\n      <td>0.342968</td>\n      <td>0.029267</td>\n      <td>0.490275</td>\n      <td>0.550074</td>\n      <td>0.756124</td>\n      <td>...</td>\n      <td>0.0</td>\n      <td>0.0</td>\n      <td>0.0</td>\n      <td>0.0</td>\n      <td>0.0</td>\n      <td>1.0</td>\n      <td>0.0</td>\n      <td>0.0</td>\n      <td>0.0</td>\n      <td>0.0</td>\n    </tr>\n    <tr>\n      <th>958519</th>\n      <td>958523</td>\n      <td>0</td>\n      <td>0.678594</td>\n      <td>0.711047</td>\n      <td>0.323122</td>\n      <td>0.253496</td>\n      <td>0.389865</td>\n      <td>0.568090</td>\n      <td>0.412492</td>\n      <td>0.147573</td>\n      <td>...</td>\n      <td>0.0</td>\n      <td>0.0</td>\n      <td>0.0</td>\n      <td>0.0</td>\n      <td>0.0</td>\n      <td>1.0</td>\n      <td>0.0</td>\n      <td>0.0</td>\n      <td>0.0</td>\n      <td>0.0</td>\n    </tr>\n  </tbody>\n</table>\n<p>958520 rows × 42 columns</p>\n</div>"
     },
     "execution_count": 112,
     "metadata": {},
     "output_type": "execute_result"
    }
   ],
   "source": [
    "data_neo = data_neo.drop(columns=['class']).join(encoded_class)\n",
    "data_neo"
   ],
   "metadata": {
    "collapsed": false,
    "pycharm": {
     "name": "#%%\n"
    }
   }
  },
  {
   "cell_type": "code",
   "execution_count": 113,
   "outputs": [
    {
     "data": {
      "text/plain": "index        0\nneo          0\nH            0\ne            0\na            0\nq            0\ni            0\nom           0\nw            0\nma           0\nad           0\nn            0\ntp           0\ntp_cal       0\nper          0\nper_y        0\nmoid         0\nmoid_ld      0\nsigma_e      0\nsigma_a      0\nsigma_q      0\nsigma_i      0\nsigma_om     0\nsigma_w      0\nsigma_ma     0\nsigma_ad     0\nsigma_n      0\nsigma_tp     0\nsigma_per    0\nrms          0\nclass_AMO    0\nclass_APO    0\nclass_AST    0\nclass_ATE    0\nclass_CEN    0\nclass_IEO    0\nclass_IMB    0\nclass_MBA    0\nclass_MCA    0\nclass_OMB    0\nclass_TJN    0\nclass_TNO    0\ndtype: int64"
     },
     "execution_count": 113,
     "metadata": {},
     "output_type": "execute_result"
    }
   ],
   "source": [
    "data_neo.isna().sum()"
   ],
   "metadata": {
    "collapsed": false,
    "pycharm": {
     "name": "#%%\n"
    }
   }
  },
  {
   "cell_type": "code",
   "execution_count": 114,
   "outputs": [
    {
     "data": {
      "text/plain": "<AxesSubplot:>"
     },
     "execution_count": 114,
     "metadata": {},
     "output_type": "execute_result"
    },
    {
     "data": {
      "text/plain": "<Figure size 432x288 with 2 Axes>",
      "image/png": "[encoded data removed]"
     },
     "metadata": {
      "needs_background": "light"
     },
     "output_type": "display_data"
    }
   ],
   "source": [
    "sns.heatmap(data_neo.corr())"
   ],
   "metadata": {
    "collapsed": false,
    "pycharm": {
     "name": "#%%\n"
    }
   }
  },
  {
   "cell_type": "code",
   "execution_count": 142,
   "outputs": [],
   "source": [
    "from sklearn.model_selection import GridSearchCV\n",
    "\n",
    "X = data_neo.drop(axis=1, columns=['neo', 'index']).to_numpy()\n",
    "y = data_neo['neo'].to_numpy().astype('int')\n",
    "\n",
    "X_train, X_test, y_train, y_test = train_test_split(X, y, train_size=0.8, test_size=0.2, random_state=seed)"
   ],
   "metadata": {
    "collapsed": false,
    "pycharm": {
     "name": "#%%\n"
    }
   }
  },
  {
   "cell_type": "code",
   "execution_count": 135,
   "outputs": [
    {
     "data": {
      "text/plain": "array([0, 0, 0, ..., 0, 0, 0])"
     },
     "execution_count": 135,
     "metadata": {},
     "output_type": "execute_result"
    }
   ],
   "source": [
    "y_train"
   ],
   "metadata": {
    "collapsed": false,
    "pycharm": {
     "name": "#%%\n"
    }
   }
  },
  {
   "cell_type": "code",
   "execution_count": 143,
   "outputs": [],
   "source": [
    "model = RandomForestClassifier()\n",
    "# n_estimators, criterion, max_depth,\n",
    "# min_samples_split oraz min_samples_leaf\n",
    "parameters = {'n_estimators': (1, 2, 5, 10, 100, 1000),\n",
    "              'criterion': ('entropy', 'gini'),\n",
    "              'max_depth': (1, 2, 10, 100, 1000, 1_000_000),\n",
    "              'min_samples_split': (2, 3, 4, 5, 6, 7, 10, 100),\n",
    "              'min_samples_leaf': (2, 3, 5, 10, 100)\n",
    "              }\n",
    "clf = GridSearchCV(model, parameters, n_jobs=8)"
   ],
   "metadata": {
    "collapsed": false,
    "pycharm": {
     "name": "#%%\n"
    }
   }
  },
  {
   "cell_type": "code",
   "execution_count": null,
   "outputs": [
    {
     "name": "stderr",
     "output_type": "stream",
     "text": [
      "exception calling callback for <Future at 0x1b4dce25120 state=finished raised TerminatedWorkerError>\n",
      "Traceback (most recent call last):\n",
      "  File \"C:\\Users\\Jakub\\anaconda3\\envs\\PUM\\lib\\site-packages\\joblib\\externals\\loky\\_base.py\", line 625, in _invoke_callbacks\n",
      "    callback(self)\n",
      "  File \"C:\\Users\\Jakub\\anaconda3\\envs\\PUM\\lib\\site-packages\\joblib\\parallel.py\", line 359, in __call__\n",
      "    self.parallel.dispatch_next()\n",
      "  File \"C:\\Users\\Jakub\\anaconda3\\envs\\PUM\\lib\\site-packages\\joblib\\parallel.py\", line 794, in dispatch_next\n",
      "    if not self.dispatch_one_batch(self._original_iterator):\n",
      "  File \"C:\\Users\\Jakub\\anaconda3\\envs\\PUM\\lib\\site-packages\\joblib\\parallel.py\", line 861, in dispatch_one_batch\n",
      "    self._dispatch(tasks)\n",
      "  File \"C:\\Users\\Jakub\\anaconda3\\envs\\PUM\\lib\\site-packages\\joblib\\parallel.py\", line 779, in _dispatch\n",
      "    job = self._backend.apply_async(batch, callback=cb)\n",
      "  File \"C:\\Users\\Jakub\\anaconda3\\envs\\PUM\\lib\\site-packages\\joblib\\_parallel_backends.py\", line 531, in apply_async\n",
      "    future = self._workers.submit(SafeFunction(func))\n",
      "  File \"C:\\Users\\Jakub\\anaconda3\\envs\\PUM\\lib\\site-packages\\joblib\\externals\\loky\\reusable_executor.py\", line 177, in submit\n",
      "    return super(_ReusablePoolExecutor, self).submit(\n",
      "  File \"C:\\Users\\Jakub\\anaconda3\\envs\\PUM\\lib\\site-packages\\joblib\\externals\\loky\\process_executor.py\", line 1115, in submit\n",
      "    raise self._flags.broken\n",
      "joblib.externals.loky.process_executor.TerminatedWorkerError: A worker process managed by the executor was unexpectedly terminated. This could be caused by a segmentation fault while calling the function or by an excessive memory usage causing the Operating System to kill the worker.\n",
      "\n"
     ]
    }
   ],
   "source": [
    "clf.fit(X_train, y_train)\n",
    "print(clf.best_params_)"
   ],
   "metadata": {
    "collapsed": false,
    "pycharm": {
     "name": "#%%\n",
     "is_executing": true
    }
   }
  },
  {
   "cell_type": "code",
   "execution_count": 139,
   "outputs": [],
   "source": [
    "y_predicted = clf.predict(X_test)"
   ],
   "metadata": {
    "collapsed": false,
    "pycharm": {
     "name": "#%%\n"
    }
   }
  },
  {
   "cell_type": "code",
   "execution_count": 141,
   "outputs": [
    {
     "name": "stdout",
     "output_type": "stream",
     "text": [
      "Czulosc: 1.0\n",
      "Swoistosc: nan\n",
      "Accuracy: 1.0\n",
      "ROC auc: 1.0\n",
      "F1 score: 1.0\n",
      "BA score: 1.0\n"
     ]
    },
    {
     "name": "stderr",
     "output_type": "stream",
     "text": [
      "C:\\Users\\Jakub\\AppData\\Local\\Temp\\ipykernel_7660\\1068564505.py:16: RuntimeWarning: invalid value encountered in longlong_scalars\n",
      "  print(\"Swoistosc:\", tn_model/(tn_model + fp_model))\n"
     ]
    },
    {
     "data": {
      "text/plain": "<Figure size 720x720 with 0 Axes>"
     },
     "metadata": {},
     "output_type": "display_data"
    },
    {
     "data": {
      "text/plain": "<Figure size 432x288 with 2 Axes>",
      "image/png": "[encoded data removed]"
     },
     "metadata": {
      "needs_background": "light"
     },
     "output_type": "display_data"
    },
    {
     "data": {
      "text/plain": "<Figure size 432x288 with 1 Axes>",
      "image/png": "[encoded data removed]"
     },
     "metadata": {
      "needs_background": "light"
     },
     "output_type": "display_data"
    }
   ],
   "source": [
    "plt.figure(figsize=(10, 10))\n",
    "\n",
    "cm_model = confusion_matrix(y_test, y_predicted, labels=[-1,1])\n",
    "tn_model = cm_model[0][0]\n",
    "fn_model = cm_model[0][1]\n",
    "tp_model = cm_model[1][1]\n",
    "fp_model = cm_model[1][0]\n",
    "ConfusionMatrixDisplay(cm_model).plot(cmap='cubehelix')\n",
    "\n",
    "fpr, tpr, roc_auc = roc_curve(y_test, y_predicted)\n",
    "\n",
    "rok_model = RocCurveDisplay(fpr=fpr, tpr=tpr)\n",
    "rok_model.plot()\n",
    "\n",
    "print(\"Czulosc:\", tp_model/(tp_model + fn_model))\n",
    "print(\"Swoistosc:\", tn_model/(tn_model + fp_model))\n",
    "print(\"Accuracy:\", (tp_model + tn_model) / (tp_model + tn_model + fp_model + fn_model))\n",
    "\n",
    "print(\"ROC auc:\", roc_auc_score(y_test, y_predicted))\n",
    "print(\"F1 score:\", f1_score(y_test, y_predicted))\n",
    "print(\"BA score:\", balanced_accuracy_score(y_test, y_predicted))"
   ],
   "metadata": {
    "collapsed": false,
    "pycharm": {
     "name": "#%%\n"
    }
   }
  }
 ],
 "metadata": {
  "kernelspec": {
   "display_name": "Python 3",
   "language": "python",
   "name": "python3"
  },
  "language_info": {
   "codemirror_mode": {
    "name": "ipython",
    "version": 2
   },
   "file_extension": ".py",
   "mimetype": "text/x-python",
   "name": "python",
   "nbconvert_exporter": "python",
   "pygments_lexer": "ipython2",
   "version": "2.7.6"
  }
 },
 "nbformat": 4,
 "nbformat_minor": 0
}